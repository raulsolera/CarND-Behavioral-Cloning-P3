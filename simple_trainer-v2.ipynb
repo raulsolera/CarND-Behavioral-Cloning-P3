{
 "cells": [
  {
   "cell_type": "code",
   "execution_count": null,
   "metadata": {},
   "outputs": [],
   "source": [
    "### Imports\n",
    "# Modules\n",
    "import csv\n",
    "import cv2\n",
    "import numpy as np\n",
    "import matplotlib.pyplot as plt\n",
    "\n",
    "# Utilities\n",
    "from imgaug import augmenters as iaa\n",
    "from random import random\n",
    "from sklearn.model_selection import train_test_split\n",
    "from sklearn.utils import shuffle\n",
    "from utils import crop_resize\n",
    "\n",
    "# Keras\n",
    "from keras.models import Sequential, load_model\n",
    "from keras.layers import Flatten, Dense, Lambda, Cropping2D, Conv2D, Dropout, MaxPooling2D\n",
    "from keras.optimizers import Adam\n",
    "from keras.regularizers import l2\n",
    "\n",
    "# Plot in the notebook\n",
    "%matplotlib inline"
   ]
  },
  {
   "cell_type": "code",
   "execution_count": null,
   "metadata": {
    "collapsed": true
   },
   "outputs": [],
   "source": [
    "# Constants\n",
    "DATA_DIR = 'data/'\n",
    "CSV_FILE = 'driving_log.csv'\n",
    "\n",
    "# Generator parameters\n",
    "BATCH_SIZE = 32\n",
    "\n",
    "# Image processing parameters\n",
    "angle_treshold = 0.1\n",
    "zero_discard_prob = 0.85\n",
    "steering_correction = 0.25"
   ]
  },
  {
   "cell_type": "markdown",
   "metadata": {},
   "source": [
    "### Load data"
   ]
  },
  {
   "cell_type": "code",
   "execution_count": null,
   "metadata": {
    "collapsed": true
   },
   "outputs": [],
   "source": [
    "# Load csv log file\n",
    "csv_file = []\n",
    "with open(DATA_DIR+CSV_FILE) as csvfile:\n",
    "    reader = csv.reader(csvfile)\n",
    "    next(reader, None)  # skip the headers\n",
    "    for line in reader:\n",
    "        csv_file.append(line)"
   ]
  },
  {
   "cell_type": "code",
   "execution_count": null,
   "metadata": {
    "collapsed": true
   },
   "outputs": [],
   "source": [
    "# Split csv in train and validation sets\n",
    "csv_train, csv_valid = train_test_split(csv_file, test_size = 0.2)"
   ]
  },
  {
   "cell_type": "markdown",
   "metadata": {},
   "source": [
    "### Transformation functions"
   ]
  },
  {
   "cell_type": "code",
   "execution_count": null,
   "metadata": {
    "collapsed": true
   },
   "outputs": [],
   "source": [
    "# Image transformations\n",
    "# Transformation list:\n",
    "tr_list = [iaa.Add((-75, 75)), # change brightness of images (by -10 to 10 of original value)\n",
    "           iaa.Multiply((0.5, 2.0)),\n",
    "           iaa.ContrastNormalization((0.5, 2.0)), # improve or worsen the contrast\n",
    "           iaa.Dropout((0.01, 0.1), per_channel=0.5), # randomly remove up to 10% of the pixels\n",
    "           iaa.AdditiveGaussianNoise(scale=(0, 0.1*255))]\n",
    "seq = iaa.SomeOf((0,2), tr_list)"
   ]
  },
  {
   "cell_type": "code",
   "execution_count": null,
   "metadata": {
    "collapsed": true
   },
   "outputs": [],
   "source": [
    "# Get sample image for testing\n",
    "sample_idx = np.random.choice(len(csv_file))\n",
    "path = DATA_DIR + csv_file[sample_idx][0].strip()\n",
    "sample_image = cv2.imread(path)\n",
    "sample_angle = csv_file[sample_idx][3]"
   ]
  },
  {
   "cell_type": "code",
   "execution_count": null,
   "metadata": {},
   "outputs": [],
   "source": [
    "### Test image transformations\n",
    "# Graph paramters\n",
    "plot_width, plot_height = 15, 9\n",
    "grid_rows, grid_cols = 5, 5\n",
    "sample_size = grid_rows * grid_cols \n",
    "\n",
    "# Plot \n",
    "fig = plt.figure(figsize = (plot_width, plot_height))\n",
    "fig.subplots_adjust(left = 0, right = 1, bottom = 0, top = 1, hspace = 0.05, wspace = 0.05)\n",
    "counter = 1\n",
    "for tr_fn in tr_list:\n",
    "    # Print non-transformed image\n",
    "    imgplt = fig.add_subplot(grid_rows, grid_cols, counter)\n",
    "    imgplt.imshow(cv2.cvtColor(sample_image, cv2.COLOR_BGR2RGB))\n",
    "    imgplt.axis('off')\n",
    "    imgplt.set_title('Original')\n",
    "    counter += 1\n",
    "    # Print transformed images\n",
    "    tr_images = tr_fn.augment_images([sample_image]*(grid_cols-1))\n",
    "    print_title = True\n",
    "    for tr_image in tr_images:\n",
    "        imgplt = fig.add_subplot(grid_rows, grid_cols, counter)\n",
    "        imgplt.imshow(cv2.cvtColor(tr_image, cv2.COLOR_BGR2RGB))\n",
    "        imgplt.axis('off')\n",
    "        if print_title:\n",
    "            imgplt.set_title('{}: {}'.format(tr_fn.name[7:],' '.join(tr_fn.__doc__.split('.')[0].split())), loc='left')\n",
    "            print_title = False\n",
    "        counter += 1"
   ]
  },
  {
   "cell_type": "markdown",
   "metadata": {},
   "source": [
    "### Create generators"
   ]
  },
  {
   "cell_type": "code",
   "execution_count": null,
   "metadata": {
    "collapsed": true
   },
   "outputs": [],
   "source": [
    "def transformed_data_generator(csv_file, data_dir = DATA_DIR, batch_size = BATCH_SIZE, image_load = True, resize = True):\n",
    "    \n",
    "    # Camera parameters\n",
    "    cameras = ['center', 'left', 'right']\n",
    "    cameras_index = {'center':0, 'left':1, 'right':2} # 0:center, 1:left, 2:right\n",
    "    cameras_steering_corretion = {'center':0, 'left':steering_correction, 'right':-steering_correction}\n",
    "    \n",
    "    num_samples = len(csv_file)\n",
    "    \n",
    "    cycles = 0\n",
    "    \n",
    "    while 1: # Loop forever so the generator never terminates\n",
    "        \n",
    "        shuffle(csv_file)\n",
    "        counter = 0\n",
    "        images = []\n",
    "        angles = []\n",
    "        for idx in range(0, num_samples):\n",
    "            \n",
    "            angle = float(csv_file[idx][3])\n",
    "            ### Discard angles below treshold with certain prob\n",
    "            if angle < angle_treshold and random() < zero_discard_prob:\n",
    "                continue\n",
    "            counter += 1\n",
    "\n",
    "            ### Randomly choose center, left or right image\n",
    "            # Get random camera 0:center, 1:left, 2:right \n",
    "            camera = np.random.choice(cameras)\n",
    "            file_name = csv_file[idx][cameras_index[camera]].split('/')[-1]\n",
    "            path = data_dir + 'IMG/' + file_name\n",
    "            if image_load:\n",
    "                image = cv2.imread(path)\n",
    "            else:\n",
    "                image = np.zeros((160, 320, 3), dtype = np.uint8)\n",
    "            # Adjust angle\n",
    "            angle += cameras_steering_corretion[camera]            \n",
    "            \n",
    "            ### Random flip image with 0.5 prob\n",
    "            if random() > 0.5:\n",
    "                image = cv2.flip(image,1)\n",
    "                angle *= -1.    \n",
    "                        \n",
    "            images.append(image)\n",
    "            angles.append(angle)\n",
    "\n",
    "            if counter == batch_size:\n",
    "                images = np.array(images)\n",
    "                ### Randomly apply image transformation\n",
    "                if image_load:\n",
    "                    images = seq.augment_images(images)\n",
    "\n",
    "                ### Resize images\n",
    "                if resize and image_load:\n",
    "                    images = [crop_resize(image) for image in images]\n",
    "                \n",
    "                X_train = np.array(images)\n",
    "                y_train = np.array(angles)\n",
    "                \n",
    "                counter = 0\n",
    "                images = []\n",
    "                angles = []\n",
    "                \n",
    "                yield shuffle(X_train, y_train)"
   ]
  },
  {
   "cell_type": "code",
   "execution_count": null,
   "metadata": {
    "collapsed": true
   },
   "outputs": [],
   "source": [
    "def original_data_generator(csv_file, data_dir = DATA_DIR, batch_size = BATCH_SIZE, image_load = True, resize = True):\n",
    "    \n",
    "    num_samples = len(csv_file)\n",
    "    \n",
    "    while 1: # Loop forever so the generator never terminates\n",
    "        shuffle(csv_file)\n",
    "        counter = 0\n",
    "        images = []\n",
    "        angles = []\n",
    "        \n",
    "        for idx in range(0, num_samples):\n",
    "            \n",
    "            file_name = csv_file[idx][0].split('/')[-1]\n",
    "            path = data_dir + 'IMG/' + file_name\n",
    "            if image_load:\n",
    "                image = cv2.imread(path)\n",
    "            else:\n",
    "                image = np.zeros((160, 320, 3), dtype = np.uint8)\n",
    "            angle = float(csv_file[idx][3])\n",
    "            counter += 1\n",
    "                        \n",
    "            images.append(image)\n",
    "            angles.append(angle)\n",
    "\n",
    "            if counter == batch_size:\n",
    "                images = np.array(images)\n",
    "                ### Resize images\n",
    "                if resize:\n",
    "                    images = [crop_resize(image) for image in images]\n",
    "                \n",
    "                X_train = np.array(images)\n",
    "                y_train = np.array(angles)\n",
    "                \n",
    "                counter = 0\n",
    "                images = []\n",
    "                angles = []\n",
    "                \n",
    "                yield shuffle(X_train, y_train)"
   ]
  },
  {
   "cell_type": "code",
   "execution_count": null,
   "metadata": {
    "collapsed": true
   },
   "outputs": [],
   "source": [
    "train_data_generator = transformed_data_generator(csv_train)\n",
    "valid_data_generator = original_data_generator(csv_valid)"
   ]
  },
  {
   "cell_type": "code",
   "execution_count": null,
   "metadata": {},
   "outputs": [],
   "source": [
    "# Test transformed data generator\n",
    "for images, angles in train_data_generator:\n",
    "    break\n",
    "\n",
    "plot_width, plot_height = 15, 8.3\n",
    "grid_rows, grid_cols = 4, 8\n",
    "\n",
    "fig = plt.figure(figsize = (plot_width, plot_height))\n",
    "fig.subplots_adjust(left = 0, right = 1, bottom = 0, top = 1, hspace = 0.05, wspace = 0.05)\n",
    "counter = 1\n",
    "for image, angle in zip(images, angles):\n",
    "    imgplt = fig.add_subplot(grid_rows, grid_cols, counter)\n",
    "    counter += 1\n",
    "    imgplt.imshow(cv2.cvtColor(image, cv2.COLOR_BGR2RGB))\n",
    "    imgplt.axis('off')\n",
    "    imgplt.set_title(angle)"
   ]
  },
  {
   "cell_type": "code",
   "execution_count": null,
   "metadata": {},
   "outputs": [],
   "source": [
    "sample_size = 200\n",
    "\n",
    "# zero_discard_prob = 0.85\n",
    "print('Discard angles below {:f} with {:%} prob'.format(angle_treshold, zero_discard_prob))\n",
    "\n",
    "tr_angles = []\n",
    "counter = 0\n",
    "for images, angles in transformed_data_generator(csv_train, image_load = False):\n",
    "    counter += 1\n",
    "    tr_angles = np.concatenate((tr_angles, angles))\n",
    "    if counter > sample_size: break\n",
    "\n",
    "or_angles = []\n",
    "counter = 0\n",
    "for images, angles in original_data_generator(csv_train, image_load = False):\n",
    "    counter += 1\n",
    "    or_angles = np.concatenate((or_angles, angles))\n",
    "    if counter > sample_size: break        \n",
    "        \n",
    "buckets = np.arange(-1,1,0.05)\n",
    "\n",
    "fig = plt.figure(figsize = (12, 3))\n",
    "#fig.subplots_adjust(left = 0, right = 1, bottom = 0, top = 1, hspace = 0.05, wspace = 0.05)\n",
    "\n",
    "hstplt = fig.add_subplot(1, 2, 1)\n",
    "hist = hstplt.hist(or_angles, bins = buckets)\n",
    "\n",
    "hstplt = fig.add_subplot(1, 2, 2)\n",
    "hist = hstplt.hist(tr_angles, bins = buckets)"
   ]
  },
  {
   "cell_type": "markdown",
   "metadata": {},
   "source": [
    "### Define model"
   ]
  },
  {
   "cell_type": "code",
   "execution_count": null,
   "metadata": {
    "collapsed": true
   },
   "outputs": [],
   "source": [
    "def create_nv_model():\n",
    "    # Define nvidia model\n",
    "    model = Sequential()\n",
    "    model.add(Cropping2D(cropping=((30,25),(0,0)), input_shape = (160, 320, 3)))\n",
    "    model.add(Lambda(lambda x: x / 255.0 - 0.5))\n",
    "    model.add(Conv2D(24, (5, 5), padding = 'valid', strides = (2, 2), activation = 'relu'))\n",
    "    model.add(Conv2D(36, (5, 5), padding = 'valid', strides = (2, 2), activation = 'relu'))\n",
    "    model.add(Conv2D(48, (5, 5), padding = 'valid', strides = (2, 2), activation = 'relu'))\n",
    "    model.add(Conv2D(64, (3, 3), padding = 'same', strides = (2, 2), activation = 'relu'))\n",
    "    model.add(Conv2D(64, (3, 3), padding = 'valid', strides = (2, 2), activation = 'relu'))\n",
    "    model.add(Flatten())\n",
    "    model.add(Dense(80))\n",
    "    model.add(Dropout(0.5))\n",
    "    model.add(Dense(40))\n",
    "    model.add(Dropout(0.5))\n",
    "    model.add(Dense(16))\n",
    "    model.add(Dropout(0.5))\n",
    "    model.add(Dense(10))\n",
    "    model.add(Dense(1))\n",
    "    adam = Adam(lr=0.005, beta_1=0.9, beta_2=0.999, epsilon=1e-08, decay=0.0)\n",
    "    model.compile(loss = 'mse', optimizer = adam)\n",
    "    return model"
   ]
  },
  {
   "cell_type": "markdown",
   "metadata": {},
   "source": [
    "### NVidia model with generator"
   ]
  },
  {
   "cell_type": "code",
   "execution_count": null,
   "metadata": {},
   "outputs": [],
   "source": [
    "nv_model = create_nv_model()\n",
    "nv_history_object = nv_model.fit_generator(transformed_data_generator(csv_train, resize = False), steps_per_epoch = len(csv_train)/BATCH_SIZE,\n",
    "                                 epochs=10, #FLAGS.epochs,\n",
    "                                 validation_data = original_data_generator(csv_valid, resize = False), validation_steps = len(csv_valid)/BATCH_SIZE)\n",
    "for images, angles in original_data_generator(csv_valid, resize = False):\n",
    "    break\n",
    "steering_angles = nv_model.predict(images)\n",
    "print('{:s}\\t{:s}\\t{:s}'.format('Predicted', 'Angle', 'Abs. diff.'))\n",
    "for pred_angle, angle in zip (steering_angles, angles):\n",
    "    print('{:f}\\t{:f}\\t{:f}'.format(pred_angle[0], angle, abs(pred_angle[0] - angle)))"
   ]
  },
  {
   "cell_type": "code",
   "execution_count": null,
   "metadata": {
    "collapsed": true
   },
   "outputs": [],
   "source": [
    "### plot the training and validation loss for each epoch\n",
    "plt.plot(nv_history_object.history['loss'])\n",
    "plt.plot(nv_history_object.history['val_loss'])\n",
    "plt.title('model mean squared error loss')\n",
    "plt.ylabel('mean squared error loss')\n",
    "plt.xlabel('epoch')\n",
    "plt.legend(['training set', 'validation set'], loc='upper right')"
   ]
  },
  {
   "cell_type": "code",
   "execution_count": null,
   "metadata": {
    "collapsed": true
   },
   "outputs": [],
   "source": [
    "# Save model\n",
    "nv_model.save('models/nv_model.h5')"
   ]
  },
  {
   "cell_type": "markdown",
   "metadata": {},
   "source": [
    "## Fine tune model"
   ]
  },
  {
   "cell_type": "code",
   "execution_count": null,
   "metadata": {
    "collapsed": true
   },
   "outputs": [],
   "source": [
    "nv_model_ft = load_model('models/nv_model.h5')"
   ]
  },
  {
   "cell_type": "code",
   "execution_count": null,
   "metadata": {},
   "outputs": [],
   "source": [
    "nv_model_ft.summary()"
   ]
  },
  {
   "cell_type": "code",
   "execution_count": null,
   "metadata": {
    "collapsed": true
   },
   "outputs": [],
   "source": [
    "for layer in nv_model_ft.layers[:]:\n",
    "    layer.trainable = False\n",
    "adam = Adam(lr=0.001, beta_1=0.9, beta_2=0.999, epsilon=1e-08, decay=0.0)\n",
    "nv_model_ft.compile(loss = 'mse', optimizer = adam)"
   ]
  },
  {
   "cell_type": "code",
   "execution_count": null,
   "metadata": {
    "collapsed": true
   },
   "outputs": [],
   "source": [
    "### Get data for fine tuning\n",
    "FT_DATA_DIR = 'Own-data/'\n",
    "FT_DATA_FILE = 'driving_log.csv'\n",
    "\n",
    "# Load csv log file\n",
    "csv_ft_file = []\n",
    "with open(FT_DATA_DIR+FT_DATA_FILE) as csvfile:\n",
    "    reader = csv.reader(csvfile)\n",
    "    next(reader, None)  # skip the headers\n",
    "    for line in reader:\n",
    "        csv_ft_file.append(line)\n",
    "# Split csv in train and validation sets\n",
    "csv_ft_train, csv_ft_valid = train_test_split(csv_ft_file, test_size = 0.2)"
   ]
  },
  {
   "cell_type": "code",
   "execution_count": null,
   "metadata": {},
   "outputs": [],
   "source": [
    "nv_history_object = nv_model_ft.fit_generator(transformed_data_generator(csv_ft_train, data_dir = 'Own-data/', resize = False), steps_per_epoch = len(csv_ft_train)/BATCH_SIZE,\n",
    "                                 epochs=10, #FLAGS.epochs,\n",
    "                                 validation_data = original_data_generator(csv_ft_valid, data_dir = 'Own-data/', resize = False), validation_steps = len(csv_ft_valid)/BATCH_SIZE)\n",
    "for images, angles in original_data_generator(csv_valid, resize = False):\n",
    "    break\n",
    "steering_angles = nv_model_ft.predict(images)\n",
    "print('{:s}\\t{:s}\\t{:s}'.format('Predicted', 'Angle', 'Abs. diff.'))\n",
    "for pred_angle, angle in zip (steering_angles, angles):\n",
    "    print('{:f}\\t{:f}\\t{:f}'.format(pred_angle[0], angle, abs(pred_angle[0] - angle)))"
   ]
  },
  {
   "cell_type": "code",
   "execution_count": null,
   "metadata": {
    "collapsed": true
   },
   "outputs": [],
   "source": [
    "# Save model\n",
    "nv_model_ft.save('models/nv_model_ft.h5')"
   ]
  }
 ],
 "metadata": {
  "kernelspec": {
   "display_name": "Python [default]",
   "language": "python",
   "name": "python3"
  },
  "language_info": {
   "codemirror_mode": {
    "name": "ipython",
    "version": 3
   },
   "file_extension": ".py",
   "mimetype": "text/x-python",
   "name": "python",
   "nbconvert_exporter": "python",
   "pygments_lexer": "ipython3",
   "version": "3.5.4"
  },
  "widgets": {
   "state": {},
   "version": "1.1.2"
  }
 },
 "nbformat": 4,
 "nbformat_minor": 2
}
