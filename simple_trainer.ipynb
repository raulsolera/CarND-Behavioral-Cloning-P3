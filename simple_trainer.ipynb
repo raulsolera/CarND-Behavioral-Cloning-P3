{
 "cells": [
  {
   "cell_type": "code",
   "execution_count": 9,
   "metadata": {},
   "outputs": [],
   "source": [
    "import csv\n",
    "import cv2\n",
    "import numpy as np\n",
    "from keras.models import Sequential\n",
    "from keras.layers import Flatten, Dense, Lambda, Cropping2D"
   ]
  },
  {
   "cell_type": "code",
   "execution_count": 11,
   "metadata": {
    "collapsed": true
   },
   "outputs": [],
   "source": [
    "# Constants\n",
    "DATA_DIR = 'data/'\n",
    "CSV_FILE = 'driving_log.csv'\n",
    "\n",
    "# Parameters\n",
    "steering_correction = 0.25"
   ]
  },
  {
   "cell_type": "code",
   "execution_count": 12,
   "metadata": {
    "collapsed": true
   },
   "outputs": [],
   "source": [
    "# Load csv log file\n",
    "lines = []\n",
    "with open(DATA_DIR+CSV_FILE) as csvfile:\n",
    "    reader = csv.reader(csvfile)\n",
    "    next(reader, None)  # skip the headers\n",
    "    for line in reader:\n",
    "        lines.append(line)"
   ]
  },
  {
   "cell_type": "code",
   "execution_count": 13,
   "metadata": {},
   "outputs": [],
   "source": [
    "# Load images and steering data\n",
    "\n",
    "#Cameras parameters\n",
    "cameras = ['center', 'left', 'right']\n",
    "cameras_index = {'center':0, 'left':1, 'right':2} # 0:center, 1:left, 2:right\n",
    "cameras_steering_corretion = {'center':0, 'left':steering_correction, 'right':-steering_correction}\n",
    "\n",
    "# Data containers\n",
    "images = []\n",
    "measurements = []\n",
    "\n",
    "# Uploading images\n",
    "for line in lines:\n",
    "    for camera in cameras:\n",
    "        source_path = DATA_DIR + line[cameras_index[camera]].strip()\n",
    "        image = cv2.imread(source_path)\n",
    "        images.append(image)\n",
    "        measurement = float(line[3])+cameras_steering_corretion[camera]\n",
    "        measurements.append(measurement)\n",
    "X_data = np.array(images)\n",
    "y_data = np.array(measurements)"
   ]
  },
  {
   "cell_type": "code",
   "execution_count": 14,
   "metadata": {},
   "outputs": [
    {
     "name": "stdout",
     "output_type": "stream",
     "text": [
      "Train on 19286 samples, validate on 4822 samples\n",
      "Epoch 1/3\n",
      "19286/19286 [==============================] - 65s - loss: 1.3113 - val_loss: 3.6547\n",
      "Epoch 2/3\n",
      "19286/19286 [==============================] - 50s - loss: 1.7745 - val_loss: 1.0969\n",
      "Epoch 3/3\n",
      "19286/19286 [==============================] - 50s - loss: 1.8397 - val_loss: 1.7616\n"
     ]
    }
   ],
   "source": [
    "# Define simple model\n",
    "model = Sequential()\n",
    "model.add(Cropping2D(cropping=((30,25),(0,0)), input_shape = (160, 320, 3)))\n",
    "model.add(Lambda(lambda x: x / 255.0 - 0.5))\n",
    "model.add(Flatten())\n",
    "model.add(Dense(1))\n",
    "\n",
    "# Train simple model\n",
    "model.compile(loss = 'mse', optimizer = 'adam')\n",
    "model.fit(X_data, y_data, validation_split = 0.2, shuffle = True, epochs = 3)\n",
    "\n",
    "# Save model\n",
    "model.save('model.h5')"
   ]
  },
  {
   "cell_type": "code",
   "execution_count": null,
   "metadata": {
    "collapsed": true
   },
   "outputs": [],
   "source": []
  }
 ],
 "metadata": {
  "kernelspec": {
   "display_name": "Python [conda env:sdc]",
   "language": "python",
   "name": "conda-env-sdc-py"
  },
  "language_info": {
   "codemirror_mode": {
    "name": "ipython",
    "version": 3
   },
   "file_extension": ".py",
   "mimetype": "text/x-python",
   "name": "python",
   "nbconvert_exporter": "python",
   "pygments_lexer": "ipython3",
   "version": "3.5.4"
  }
 },
 "nbformat": 4,
 "nbformat_minor": 2
}
