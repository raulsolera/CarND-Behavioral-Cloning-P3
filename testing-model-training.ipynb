{
 "cells": [
  {
   "cell_type": "code",
   "execution_count": null,
   "metadata": {},
   "outputs": [],
   "source": [
    "#--> IMPORTS\n",
    "\n",
    "# Utilities\n",
    "import numpy as np\n",
    "import csv\n",
    "import cv2\n",
    "import pickle\n",
    "from sklearn.model_selection import train_test_split\n",
    "from sklearn.utils import shuffle\n",
    "\n",
    "# Keras models\n",
    "from keras.applications.vgg16 import VGG16\n",
    "from keras.applications.xception import Xception\n",
    "\n",
    "# Keras utils\n",
    "from keras.preprocessing import image\n",
    "from keras.applications.vgg16 import preprocess_input\n",
    "from keras.optimizers import Adam\n",
    "from keras.regularizers import l2\n",
    "from keras.layers import Dense, Activation, Flatten, Dropout, Lambda, ELU\n",
    "from keras.models import Model, Sequential"
   ]
  },
  {
   "cell_type": "code",
   "execution_count": null,
   "metadata": {
    "collapsed": true
   },
   "outputs": [],
   "source": [
    "#--> CONSTANTS\n",
    "DATA_DIR = 'data/'\n",
    "DATA_FILE = 'driving_log.csv'\n",
    "\n",
    "BATCH_SIZE = 128\n",
    "EPOCHS = 2"
   ]
  },
  {
   "cell_type": "code",
   "execution_count": null,
   "metadata": {},
   "outputs": [],
   "source": [
    "#--> DATA PREPARATION\n",
    "# Function for uploading data from file    \n",
    "def load_file():\n",
    "    # Load CSV file\n",
    "    lines = []\n",
    "    with open(DATA_DIR+'/'+DATA_FILE) as csvfile:\n",
    "        reader = csv.reader(csvfile)\n",
    "        next(reader, None)  # skip the headers\n",
    "        for line in reader:\n",
    "            lines.append(line)\n",
    "\n",
    "    # Process data\n",
    "    images = []\n",
    "    steerings = []\n",
    "    for line in lines:\n",
    "        source_path = DATA_DIR + line[0]\n",
    "        image = cv2.imread(source_path)\n",
    "        images.append(image)\n",
    "        angle = float(line[3])\n",
    "        steerings.append(angle)\n",
    "    images = np.array(images)\n",
    "    steerings = np.array(steerings)\n",
    "    \n",
    "    return images, steerings\n",
    "    \n",
    "# Upload from pickle (this saves processing time) or file\n",
    "# Pickle file\n",
    "data_file = 'temp/data_file.p'\n",
    "try:\n",
    "    print(\"Uploading data\")\n",
    "    with open(data_file, mode='rb') as f:\n",
    "        data = pickle.load(f)\n",
    "    images, steerings = data['images'], data['steerings']\n",
    "except OSError as err:\n",
    "    print(\"Uploading file\")\n",
    "    images, steerings = load_file()\n",
    "    data = {'images':images, 'steerings':steerings}\n",
    "    pickle.dump( data, open( data_file, \"wb\" ) )\n",
    "X_train, X_valid, y_train, y_valid = train_test_split(images, steerings, test_size = 0.2, shuffle = True)"
   ]
  },
  {
   "cell_type": "markdown",
   "metadata": {},
   "source": [
    "#### Image augmentation techniques to test:\n",
    "- Flip horizontally --> inverse steering angle\n",
    "- Shifth horizontally --> adjust steering angle\n",
    "- Use left and right cameras --> adjust steering angle\n",
    "- Brightness, salt&pepper, shadow\n"
   ]
  },
  {
   "cell_type": "code",
   "execution_count": null,
   "metadata": {},
   "outputs": [],
   "source": [
    "# Check upload\n",
    "print(X_train.shape, y_train.shape, X_valid.shape, y_valid.shape)"
   ]
  },
  {
   "cell_type": "code",
   "execution_count": null,
   "metadata": {},
   "outputs": [],
   "source": [
    "# have a look at keras ImageDataGenerator https://keras.io/preprocessing/image/\n",
    "# Training data generator\n",
    "def data_generator(images, steerings, batch_size = BATCH_SIZE):\n",
    "    batch_train = np.zeros((batch_size, 160, 320, 3), dtype = np.float32)\n",
    "    batch_angle = np.zeros((batch_size,), dtype = np.float32)\n",
    "    while True:\n",
    "        data, angle = shuffle(images, steerings)\n",
    "        for i in range(batch_size):\n",
    "          choice = int(np.random.choice(len(data),1))\n",
    "          batch_train[i] = data[choice]\n",
    "          batch_angle[i] = angle[choice]\n",
    "\n",
    "        yield batch_train, batch_angle\n",
    "\n",
    "train_data_generator = data_generator(X_train, y_train, 16)\n",
    "valid_data_generator = data_generator(X_valid, y_valid, 16)"
   ]
  },
  {
   "cell_type": "code",
   "execution_count": null,
   "metadata": {},
   "outputs": [],
   "source": [
    "# Check generator\n",
    "counter = 0\n",
    "for features, values in train_data_generator:\n",
    "    print('Train', features.shape)\n",
    "    print('Train', values.shape)\n",
    "    if counter > -1: break\n",
    "    counter += 1\n",
    "counter = 0\n",
    "for features, values in valid_data_generator:\n",
    "    print('Valid', features.shape)\n",
    "    print('Valid', values.shape)\n",
    "    if counter > -1: break\n",
    "    counter += 1"
   ]
  },
  {
   "cell_type": "code",
   "execution_count": null,
   "metadata": {
    "scrolled": true
   },
   "outputs": [],
   "source": [
    "# Create the base pre-trained model\n",
    "base_model = Xception(weights='imagenet', include_top=False, input_shape=(160, 320, 3))\n",
    "\n",
    "# Add new dense layer on top\n",
    "# Get the output of the model\n",
    "x = base_model.output\n",
    "# Flatten it\n",
    "x = Flatten(name='flatten')(x)\n",
    "# Add a fully-connected layer with a relu activation function\n",
    "x = Dense(8, activation='relu')(x)\n",
    "# Finally a dense with a single regression 1 output\n",
    "predictions = Dense(1, W_regularizer = l2(0.001))(x)\n",
    "\n",
    "# Mdel we will train\n",
    "model = Model(inputs=base_model.input, outputs=predictions)\n",
    "\n",
    "# Train only the top layers (which were randomly initialized)\n",
    "# So, freeze all convolutional layers\n",
    "for layer in base_model.layers:\n",
    "    layer.trainable = False\n",
    "    \n",
    "# compile the model (should be done *after* setting layers to non-trainable)\n",
    "model.compile(optimizer=Adam(lr = 0.0001), loss='mse', metrics=['accuracy'])\n",
    "model.summary()\n",
    "\n",
    "if 1 == 2:\n",
    "    # train the model on the new data for a few epochs\n",
    "    model.fit_generator(train_data_generator,\n",
    "                        samples_per_epoch = len(X_train), nb_epoch = EPOCHS,\n",
    "                        validation_data = valid_data_generator, validation_steps = 10)#, nb_val_samples = len(X_valid))"
   ]
  },
  {
   "cell_type": "code",
   "execution_count": null,
   "metadata": {},
   "outputs": [],
   "source": [
    "# Very simple trainer to test\n",
    "model = Sequential()\n",
    "model.add(Lambda(lambda x: x / 255.0 - 0.5, input_shape = (160, 320, 3)))\n",
    "model.add(Flatten(input_shape= (160, 320, 3)))\n",
    "model.add(Dense(1))\n",
    "\n",
    "# Train simple model\n",
    "model.compile(loss = 'mse', optimizer = 'adam', metrics=['accuracy'])\n",
    "model.fit(X_train, y_train, validation_split = 0.2, shuffle = True, nb_epoch = 2)"
   ]
  },
  {
   "cell_type": "code",
   "execution_count": null,
   "metadata": {
    "collapsed": true
   },
   "outputs": [],
   "source": []
  }
 ],
 "metadata": {
  "kernelspec": {
   "display_name": "Python [conda env:sdc]",
   "language": "python",
   "name": "conda-env-sdc-py"
  },
  "language_info": {
   "codemirror_mode": {
    "name": "ipython",
    "version": 3
   },
   "file_extension": ".py",
   "mimetype": "text/x-python",
   "name": "python",
   "nbconvert_exporter": "python",
   "pygments_lexer": "ipython3",
   "version": "3.5.4"
  }
 },
 "nbformat": 4,
 "nbformat_minor": 2
}
