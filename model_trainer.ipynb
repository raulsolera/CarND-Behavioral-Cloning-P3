{
 "cells": [
  {
   "cell_type": "markdown",
   "metadata": {},
   "source": [
    "## Imports"
   ]
  },
  {
   "cell_type": "code",
   "execution_count": null,
   "metadata": {},
   "outputs": [],
   "source": [
    "### Imports\n",
    "# Modules\n",
    "import numpy as np\n",
    "import cv2\n",
    "import csv\n",
    "import matplotlib.pyplot as plt\n",
    "import os\n",
    "import errno\n",
    "\n",
    "# utils\n",
    "from sklearn.utils import shuffle\n",
    "from imgaug import augmenters as iaa\n",
    "from sklearn.model_selection import train_test_split\n",
    "from matplotlib import gridspec\n",
    "\n",
    "# Keras\n",
    "from keras.models import Sequential, load_model\n",
    "from keras.layers import Flatten, Dense, Lambda, Cropping2D, Conv2D, Dropout, MaxPooling2D\n",
    "from keras.optimizers import Adam, SGD\n",
    "from keras.regularizers import l2\n",
    "from keras.utils import plot_model\n",
    "\n",
    "# Utils\n",
    "from utils import delete_file, crop, resize, conv_to_graysale\n",
    "from utils import random_brightness_correction, random_flip, random_shear, random_rotate\n",
    "from utils import transformed_data_generator, original_data_generator, lenet_generator\n",
    "\n",
    "# Plot in the notebook\n",
    "%matplotlib inline"
   ]
  },
  {
   "cell_type": "markdown",
   "metadata": {},
   "source": [
    "## Constants and generic utils"
   ]
  },
  {
   "cell_type": "code",
   "execution_count": null,
   "metadata": {
    "collapsed": true
   },
   "outputs": [],
   "source": [
    "### Constants\n",
    "# Data\n",
    "DATA_DIR = 'data/'\n",
    "CSV_FILE = 'driving_log.csv'\n",
    "\n",
    "# Resize constants\n",
    "TOP_CUT = 30\n",
    "BOTTOM_CUT = 30\n",
    "NEW_WIDTH = 64\n",
    "NEW_HEIGHT = 64\n",
    "MAX_ROTATION_ANGLE = 15\n",
    "MAX_SHEAR_SHIFT = 40\n",
    "\n",
    "# Data generation constants\n",
    "BATCH_SIZE = 32\n",
    "STEERING_CORRECTION = 0.23\n",
    "\n",
    "# Camera parameters\n",
    "cameras = ['center', 'left', 'right']\n",
    "cameras_index = {'center':0, 'left':1, 'right':2} # 0:center, 1:left, 2:right"
   ]
  },
  {
   "cell_type": "markdown",
   "metadata": {},
   "source": [
    "### Training and visualization functions"
   ]
  },
  {
   "cell_type": "code",
   "execution_count": null,
   "metadata": {
    "collapsed": true
   },
   "outputs": [],
   "source": [
    "def select_random_seq(csv_file, minutes):\n",
    "    # Select a random n minutes sequence to test model\n",
    "    n_minutes = minutes\n",
    "    examples_to_select = int(n_minutes*60*12) # 2 minutes * 60 seconds * 12 shots a minute\n",
    "    total_examples = len(csv_file)\n",
    "    random_seq_ini = np.random.choice(total_examples-examples_to_select-1)\n",
    "    random_seq = csv_file[random_seq_ini:random_seq_ini+examples_to_select]\n",
    "    return random_seq\n",
    "\n",
    "def load_sequence(csv_seq, data_dir = DATA_DIR):\n",
    "    counter = 0\n",
    "    angles = []\n",
    "    images = []\n",
    "    times = []\n",
    "    counter = 0\n",
    "    for line in csv_seq:\n",
    "        path = data_dir + line[0].strip()\n",
    "        image = cv2.imread(path)\n",
    "        angle = float(line[3])\n",
    "        images.append(image)\n",
    "        angles.append(angle)\n",
    "        times.append(counter)\n",
    "        counter += 1\n",
    "    return images, angles, times"
   ]
  },
  {
   "cell_type": "code",
   "execution_count": null,
   "metadata": {
    "collapsed": true
   },
   "outputs": [],
   "source": [
    "### Angle distribution\n",
    "def visualize_prediction(model, model_name, seq_minutes, tr_fn = crop_resize):\n",
    "    # model = load_model(model_file)\n",
    "    rn_seq = select_random_seq(csv_file, seq_minutes)\n",
    "    images, angles, times = load_sequence(rn_seq)\n",
    "    images = tr_fn(images)\n",
    "    steering_angles = model.predict(images).T.squeeze()\n",
    "    difs = [real-pred for real, pred in zip(angles, steering_angles)]\n",
    "    zeros = [0]*len(difs)\n",
    "    \n",
    "    fig = plt.figure(figsize=(16, 6)) \n",
    "    fig.suptitle('Model: {:s} | Real .vs. predicted steering angle | {:.2f} minutes sequence'\\\n",
    "                 .format(model_name, seq_minutes), fontsize=12)\n",
    "    \n",
    "    gs = gridspec.GridSpec(2, 1, height_ratios=[2, 1]) \n",
    "    ax0 = plt.subplot(gs[0])\n",
    "    ax0.plot(times, angles, label='Real')\n",
    "    ax0.plot(times, steering_angles, label='Predicted')\n",
    "    ax0.legend(loc='lower right')\n",
    "    ax0.axis([-10, 12*60*2+10, -0.75, 0.75])\n",
    "    ax0.spines['top'].set_visible(False)\n",
    "    ax0.spines['right'].set_visible(False)\n",
    "    #ax0.spines['bottom'].set_visible(False)\n",
    "    #ax0.spines['left'].set_visible(False)\n",
    "    \n",
    "    ax1 = plt.subplot(gs[1], sharex=ax0)\n",
    "    ax1.fill_between(times, 0, difs, facecolor='red', label='Difference')\n",
    "    ax1.legend(loc='lower right')\n",
    "    ax1.spines['top'].set_visible(False)\n",
    "    ax1.spines['right'].set_visible(False)\n",
    "    #ax1.spines['bottom'].set_visible(False)\n",
    "    #ax1.spines['left'].set_visible(False)\n",
    "    \n",
    "    return fig"
   ]
  },
  {
   "cell_type": "code",
   "execution_count": null,
   "metadata": {
    "collapsed": true
   },
   "outputs": [],
   "source": [
    "def print_learning_curves(train_loss, valid_loss, model_name):\n",
    "    ### Show learning curves\n",
    "    ### plot the training and validation loss for each epoch\n",
    "    plt.plot(train_loss)\n",
    "    plt.plot(valid_loss)\n",
    "    plt.title(model_name+': mean squared error loss')\n",
    "    plt.ylabel('mean squared error loss')\n",
    "    plt.xlabel('epoch')\n",
    "    plt.legend(['training set', 'validation set'], loc='upper right')\n",
    "    return fig"
   ]
  },
  {
   "cell_type": "code",
   "execution_count": null,
   "metadata": {},
   "outputs": [],
   "source": [
    "### Calculate accuracy\n",
    "def calc_sign_accuracy(model, X_validation, y_validation, tr_func = crop_resize):\n",
    "    y_prediction = model.predict(tr_func(X_validation)).T\n",
    "    real_signs = np.sign(y_validation)\n",
    "    pred_signs = np.sign(y_prediction)\n",
    "    return np.sum(real_signs == pred_signs)/len(angles)"
   ]
  },
  {
   "cell_type": "code",
   "execution_count": null,
   "metadata": {
    "collapsed": true
   },
   "outputs": [],
   "source": [
    "def train_model(model, train_data, steps_train, valid_data, steps_valid, epochs):\n",
    "    ft_model = model\n",
    "    model_hst_object = \\\n",
    "    model.fit_generator(train_data, steps_per_epoch = steps_train, epochs = epochs,\n",
    "                        validation_data = valid_data, validation_steps = steps_valid)\n",
    "    return ft_model, model_hst_object.history['loss'], model_hst_object.history['val_loss']"
   ]
  },
  {
   "cell_type": "markdown",
   "metadata": {},
   "source": [
    "## Data exploration"
   ]
  },
  {
   "cell_type": "code",
   "execution_count": null,
   "metadata": {
    "collapsed": true
   },
   "outputs": [],
   "source": [
    "### Load data\n",
    "# Load csv log file\n",
    "csv_file = []\n",
    "with open(DATA_DIR+CSV_FILE) as csvfile:\n",
    "    reader = csv.reader(csvfile)\n",
    "    next(reader, None)  # skip the headers\n",
    "    for line in reader:\n",
    "        csv_file.append(line)"
   ]
  },
  {
   "cell_type": "code",
   "execution_count": null,
   "metadata": {
    "collapsed": true
   },
   "outputs": [],
   "source": [
    "# Split csv in train and validation sets\n",
    "csv_train, csv_valid = train_test_split(csv_file, test_size = 0.2)"
   ]
  },
  {
   "cell_type": "code",
   "execution_count": null,
   "metadata": {
    "collapsed": true
   },
   "outputs": [],
   "source": [
    "X_data = []\n",
    "y_data = []\n",
    "for line in csv_file:\n",
    "    path = DATA_DIR + line[0].strip()\n",
    "    image = cv2.imread(path)\n",
    "    angle = float(line[3])\n",
    "    X_data.append(image)\n",
    "    y_data.append(angle)\n",
    "X_data = np.array(X_data)\n",
    "y_data = np.array(y_data)\n",
    "X_train, X_valid, y_train, y_valid = train_test_split(X_data, y_data, test_size = 0.2)"
   ]
  },
  {
   "cell_type": "code",
   "execution_count": null,
   "metadata": {},
   "outputs": [],
   "source": [
    "### Sample image\n",
    "# Get sample image for testing\n",
    "sample_idx = np.random.choice(len(csv_file))\n",
    "sample_line = csv_file[sample_idx]\n",
    "path = DATA_DIR + sample_line[0].strip()\n",
    "sample_image = cv2.imread(path)\n",
    "sample_angle = float(sample_line[3])\n",
    "\n",
    "fig = plt.figure(figsize = (12, 3))\n",
    "fig.subplots_adjust(left = 0, right = 1, bottom = 0, top = 1, hspace = 0.05, wspace = 0.05)\n",
    "\n",
    "for camera in cameras:\n",
    "    path = DATA_DIR + sample_line[cameras_index[camera]].strip()\n",
    "    image = cv2.imread(path)\n",
    "    imgplt = fig.add_subplot(1, 3, cameras_index[camera]+1)\n",
    "    imgplt.imshow(cv2.cvtColor(image, cv2.COLOR_BGR2RGB))\n",
    "    imgplt.axis('off')\n",
    "    imgplt.set_title('Camera: '+camera, fontsize = 12)\n",
    "\n",
    "fig.savefig('report-images/cameras_image')"
   ]
  },
  {
   "cell_type": "code",
   "execution_count": null,
   "metadata": {},
   "outputs": [],
   "source": [
    "### Driving log exploration\n",
    "import pandas as pd\n",
    "pd_data = pd.read_csv(DATA_DIR+CSV_FILE)\n",
    "pd_data[:5]"
   ]
  },
  {
   "cell_type": "code",
   "execution_count": null,
   "metadata": {},
   "outputs": [],
   "source": [
    "### Angle distribution\n",
    "counter = 0\n",
    "angles = []\n",
    "times = []\n",
    "for line in csv_file:\n",
    "    angles.append(float(line[3]))\n",
    "    times.append(counter)\n",
    "    counter += 1\n",
    "    if counter > 12*60*2: break\n",
    "bins = [-0.75 + 0.1*counter for counter in range(16)]\n",
    "\n",
    "fig = plt.figure(figsize=(16, 3)) \n",
    "fig.subplots_adjust(hspace = 0.1, wspace = 0.1)\n",
    "fig.suptitle(\"Angle distribution in two minutes sequence\")\n",
    "gs = gridspec.GridSpec(1, 2, width_ratios=[18, 3]) \n",
    "ax0 = plt.subplot(gs[0])\n",
    "ax0.plot(times, angles)\n",
    "ax0.axis([-10, 12*60*2+10, -0.75, 0.75])\n",
    "ax1 = plt.subplot(gs[1], sharey=ax0)\n",
    "hst = ax1.hist(angles, bins = bins, orientation=\"horizontal\")"
   ]
  },
  {
   "cell_type": "code",
   "execution_count": null,
   "metadata": {},
   "outputs": [],
   "source": [
    "# Load csv log file\n",
    "csv_skew_file = []\n",
    "with open('new-data/'+CSV_FILE) as csvfile:\n",
    "    reader = csv.reader(csvfile)\n",
    "    next(reader, None)  # skip the headers\n",
    "    for line in reader:\n",
    "        csv_skew_file.append(line)\n",
    "\n",
    "angles = []\n",
    "for line in csv_skew_file:\n",
    "    angles.append(float(line[3]))\n",
    "max_angle = 0.75\n",
    "step = 0.05\n",
    "bins = [-max_angle + step*counter for counter in range(int(max_angle*2/step)+1)]\n",
    "fig = plt.figure(figsize=(8, 3)) \n",
    "hst = plt.hist(angles, bins)\n",
    "plt.yscale('log')#, nonposy='clip')\n",
    "axis = plt.xticks([-0.75+0.25*counter for counter in range(7)])\n",
    "title = plt.title('Log scaled distribution of steering angles in a single lap')"
   ]
  },
  {
   "cell_type": "markdown",
   "metadata": {},
   "source": [
    "## Data processing"
   ]
  },
  {
   "cell_type": "code",
   "execution_count": null,
   "metadata": {
    "collapsed": true
   },
   "outputs": [],
   "source": [
    "### Testing image transformation\n",
    "def print_sample_transformation(tr_func, tr_name, image, *argv):\n",
    "    \n",
    "    fig = plt.figure(figsize = (15, 2))\n",
    "    fig.subplots_adjust(left = 0, right = 1, bottom = 0, top = 1, hspace = 0.05, wspace = 0.05)\n",
    "\n",
    "    # Print non-transformed image\n",
    "    counter = 1\n",
    "    imgplt = fig.add_subplot(1, 5, counter)\n",
    "    imgplt.imshow(cv2.cvtColor(image, cv2.COLOR_BGR2RGB))\n",
    "    imgplt.axis('off')\n",
    "    imgplt.set_title('Original', fontsize = 12)\n",
    "    counter += 1\n",
    "    # Print transformed images\n",
    "    print_title = True\n",
    "    for idx in range(4):\n",
    "        imgplt = fig.add_subplot(1, 5, counter)\n",
    "        if tr_func == conv_to_graysale:\n",
    "            tr_image = tr_func(image)\n",
    "            imgplt.imshow(tr_image.squeeze(), cmap='gray_r')\n",
    "        else:\n",
    "            tr_image, tr_angle = tr_func(image, *argv)\n",
    "            imgplt.imshow(cv2.cvtColor(tr_image, cv2.COLOR_BGR2RGB))\n",
    "        imgplt.axis('off')\n",
    "        if print_title:\n",
    "            imgplt.set_title(tr_name, loc = 'left', fontsize = 12)\n",
    "            print_title = False\n",
    "        counter += 1\n",
    "    return fig"
   ]
  },
  {
   "cell_type": "code",
   "execution_count": null,
   "metadata": {},
   "outputs": [],
   "source": [
    "fig = print_sample_transformation(random_flip, 'Flip with 0.5 prob', sample_image, sample_angle)\n",
    "fig.savefig('report-images/random_flip')"
   ]
  },
  {
   "cell_type": "code",
   "execution_count": null,
   "metadata": {},
   "outputs": [],
   "source": [
    "fig = print_sample_transformation(random_brightness_correction, 'Bright adjustment', sample_image, sample_angle)\n",
    "fig.savefig('report-images/random_brightness_correction')"
   ]
  },
  {
   "cell_type": "code",
   "execution_count": null,
   "metadata": {},
   "outputs": [],
   "source": [
    "fig = print_sample_transformation(random_shear, 'Random shear', sample_image, sample_angle)\n",
    "fig.savefig('report-images/random_shear')"
   ]
  },
  {
   "cell_type": "code",
   "execution_count": null,
   "metadata": {},
   "outputs": [],
   "source": [
    "fig = print_sample_transformation(conv_to_graysale, 'Convert to grayscale', sample_image, None)\n",
    "fig.savefig('report-images/conv_to_graysale')"
   ]
  },
  {
   "cell_type": "code",
   "execution_count": null,
   "metadata": {
    "collapsed": true
   },
   "outputs": [],
   "source": [
    "def resize_pipeline(image):\n",
    "    \n",
    "    fig = plt.figure(figsize = (15, 5))\n",
    "    #fig.subplots_adjust(left = 0, right = 1, bottom = 0, top = 1, hspace = 0.05, wspace = 0.05)\n",
    "    counter = 0\n",
    "    \n",
    "    # Print non-transformed image\n",
    "    counter += 1\n",
    "    imgplt = fig.add_subplot(1, 3, counter, autoscale_on = True)\n",
    "    imgplt.imshow(cv2.cvtColor(image, cv2.COLOR_BGR2RGB))\n",
    "    imgplt.axis('off')\n",
    "    imgplt.set_title('Original', fontsize = 12)\n",
    "\n",
    "    \n",
    "    # Print cropped image\n",
    "    counter += 1\n",
    "    cropped_image = crop(image)\n",
    "    imgplt = fig.add_subplot(1, 3, counter, autoscale_on = True)\n",
    "    imgplt.imshow(cv2.cvtColor(cropped_image, cv2.COLOR_BGR2RGB))\n",
    "    imgplt.axis('off')\n",
    "    imgplt.set_title('Cropped', fontsize = 16)\n",
    "\n",
    "    \n",
    "    #Print resized image\n",
    "    counter += 1\n",
    "    resized_image = resize(cropped_image)\n",
    "    imgplt = fig.add_subplot(1, 3, counter, autoscale_on = True)\n",
    "    imgplt.imshow(cv2.cvtColor(resized_image, cv2.COLOR_BGR2RGB))\n",
    "    imgplt.axis('off')\n",
    "    imgplt.set_title('Resized', fontsize = 12)\n",
    "    \n",
    "    return fig"
   ]
  },
  {
   "cell_type": "code",
   "execution_count": null,
   "metadata": {},
   "outputs": [],
   "source": [
    "fig = resize_pipeline(sample_image)\n",
    "fig.savefig('report-images/resize_pipeline')"
   ]
  },
  {
   "cell_type": "code",
   "execution_count": null,
   "metadata": {},
   "outputs": [],
   "source": [
    "sample_size = 50\n",
    "\n",
    "tr_angles = []\n",
    "counter = 0\n",
    "for images, angles in transformed_data_generator(csv_file, use_lateral_cameras = False, \n",
    "                                                 shear_prob = 0.2, image_load = False):\n",
    "    counter += 1\n",
    "    tr_angles = np.concatenate((tr_angles, angles))\n",
    "    if counter > sample_size: break\n",
    "\n",
    "or_angles = []\n",
    "counter = 0\n",
    "for images, angles in original_data_generator(csv_file, image_load = False):\n",
    "    counter += 1\n",
    "    or_angles = np.concatenate((or_angles, angles))\n",
    "    if counter > sample_size: break        \n",
    "        \n",
    "buckets = np.arange(-1,1,0.05)\n",
    "\n",
    "fig = plt.figure(figsize = (12, 3))\n",
    "#fig.subplots_adjust(left = 0, right = 1, bottom = 0, top = 1, hspace = 0.05, wspace = 0.05)\n",
    "\n",
    "hstplt = fig.add_subplot(1, 2, 1)\n",
    "hist = hstplt.hist(or_angles, bins = buckets)\n",
    "hstplt.set_title('Angle distribution original data')\n",
    "\n",
    "hstplt = fig.add_subplot(1, 2, 2)\n",
    "hist = hstplt.hist(tr_angles, bins = buckets)\n",
    "hstplt.set_title('Angle distribution transformed data')\n",
    "\n",
    "fig.savefig('report-images/angle_distribution')"
   ]
  },
  {
   "cell_type": "markdown",
   "metadata": {},
   "source": [
    "## Generators"
   ]
  },
  {
   "cell_type": "code",
   "execution_count": null,
   "metadata": {},
   "outputs": [],
   "source": [
    "for images, angles in transformed_data_generator(csv_file, shear_prob = 0.1):\n",
    "    break\n",
    "\n",
    "plot_width, plot_height = 15, 8.3\n",
    "grid_rows, grid_cols = 4, 8\n",
    "\n",
    "fig = plt.figure(figsize = (plot_width, plot_height))\n",
    "fig.subplots_adjust(left = 0, right = 1, bottom = 0, top = 1, hspace = 0.05, wspace = 0.05)\n",
    "counter = 1\n",
    "for image, angle in zip(images[:32], angles[:32]):\n",
    "    imgplt = fig.add_subplot(grid_rows, grid_cols, counter)\n",
    "    counter += 1\n",
    "    imgplt.imshow(cv2.cvtColor(image, cv2.COLOR_BGR2RGB))\n",
    "    imgplt.axis('off')\n",
    "    imgplt.set_title('{:f}'.format(angle))\n",
    "fig.savefig('report-images/image_generator')"
   ]
  },
  {
   "cell_type": "code",
   "execution_count": null,
   "metadata": {},
   "outputs": [],
   "source": [
    "from utils import lenet_generator\n",
    "for images, angles in lenet_generator(csv_file):\n",
    "    break\n",
    "    \n",
    "plot_width, plot_height = 15, 8.3\n",
    "grid_rows, grid_cols = 4, 8\n",
    "\n",
    "fig = plt.figure(figsize = (plot_width, plot_height))\n",
    "fig.subplots_adjust(left = 0, right = 1, bottom = 0, top = 1, hspace = 0.05, wspace = 0.05)\n",
    "counter = 1\n",
    "for image, angle in zip(images[:32], angles[:32]):\n",
    "    imgplt = fig.add_subplot(grid_rows, grid_cols, counter)\n",
    "    counter += 1\n",
    "    imgplt.imshow(image.squeeze(), cmap='gray_r')\n",
    "    imgplt.axis('off')\n",
    "    imgplt.set_title('{:f}'.format(angle))\n",
    "fig.savefig('report-images/lenet_image_generator')"
   ]
  },
  {
   "cell_type": "markdown",
   "metadata": {},
   "source": [
    "## Models"
   ]
  },
  {
   "cell_type": "markdown",
   "metadata": {},
   "source": [
    "### Very simple model"
   ]
  },
  {
   "cell_type": "code",
   "execution_count": null,
   "metadata": {
    "collapsed": true
   },
   "outputs": [],
   "source": [
    "#\\---> MODEL DEFINITION <----------------------------------------------------\\#\n",
    "def create_model_simple():\n",
    "    '''\n",
    "    Very simple model\n",
    "    '''\n",
    "    model = Sequential()\n",
    "    model.add(Lambda(lambda x: x/127.5 - 1.0,input_shape=(64,64,3)))\n",
    "    model.add(Flatten())\n",
    "    model.add(Dense(1))    \n",
    "    model.compile(optimizer=Adam(), loss='mse')\n",
    "    return model"
   ]
  },
  {
   "cell_type": "markdown",
   "metadata": {},
   "source": [
    "### Simple model with nonlinearity"
   ]
  },
  {
   "cell_type": "code",
   "execution_count": null,
   "metadata": {
    "collapsed": true
   },
   "outputs": [],
   "source": [
    "#\\---> MODEL DEFINITION <----------------------------------------------------\\#\n",
    "def create_model_nl_simple():\n",
    "    '''\n",
    "    Very simple model\n",
    "    '''\n",
    "    model = Sequential()\n",
    "    model.add(Lambda(lambda x: x/127.5 - 1.0,input_shape=(64,64,3)))\n",
    "    model.add(Flatten())\n",
    "    model.add(Dense(128, activation='relu'))\n",
    "    model.add(Dense(1))    \n",
    "    model.compile(optimizer=Adam(), loss='mse')\n",
    "    return model"
   ]
  },
  {
   "cell_type": "markdown",
   "metadata": {},
   "source": [
    "### C4F1 model"
   ]
  },
  {
   "cell_type": "code",
   "execution_count": null,
   "metadata": {
    "collapsed": true
   },
   "outputs": [],
   "source": [
    "#\\---> MODEL DEFINITION <----------------------------------------------------\\#\n",
    "def create_c4f1():\n",
    "    '''\n",
    "    Very simple model\n",
    "    '''\n",
    "    model = Sequential()\n",
    "    model.add(Lambda(lambda x: x/127.5 - 1.0,input_shape=(64,64,3)))\n",
    "    model.add(Conv2D(16, (5, 5), padding = 'same', strides = (1, 1), activation = 'relu'))\n",
    "    model.add(MaxPooling2D(pool_size=(2, 2), strides=(2, 2)))\n",
    "    model.add(Conv2D(32, (5, 5), padding = 'same', strides = (1, 1), activation = 'relu'))\n",
    "    model.add(MaxPooling2D(pool_size=(2, 2), strides=(2, 2)))\n",
    "    model.add(Conv2D(48, (5, 5), padding = 'same', strides = (1, 1), activation = 'relu'))\n",
    "    model.add(MaxPooling2D(pool_size=(2, 2), strides=(2, 2)))\n",
    "    model.add(Conv2D(64, (5, 5), padding = 'same', strides = (1, 1), activation = 'relu'))\n",
    "    model.add(MaxPooling2D(pool_size=(2, 2), strides=(2, 2)))\n",
    "    model.add(Flatten())\n",
    "    model.add(Dense(128, activation='relu'))\n",
    "    model.add(Dense(1))    \n",
    "    model.compile(optimizer=Adam(), loss='mse')\n",
    "    return model"
   ]
  },
  {
   "cell_type": "markdown",
   "metadata": {},
   "source": [
    "### NVidia model"
   ]
  },
  {
   "cell_type": "code",
   "execution_count": null,
   "metadata": {
    "collapsed": true
   },
   "outputs": [],
   "source": [
    "### Model definition\n",
    "learning_rate = 0.0001\n",
    "keep_prob = 0.5\n",
    "def create_nv_model():\n",
    "    \n",
    "    # Define nvidia model\n",
    "    model = Sequential()\n",
    "\n",
    "    # Lambda layer\n",
    "    model.add(Lambda(lambda x: x / 255.0 - 0.5, input_shape = (64, 64, 3)))\n",
    "    \n",
    "    # Convolutional layers\n",
    "    model.add(Conv2D(24, (5, 5), padding = 'valid', strides = (2, 2), activation = 'relu'))\n",
    "    model.add(Conv2D(36, (5, 5), padding = 'valid', strides = (2, 2), activation = 'relu'))\n",
    "    model.add(Conv2D(48, (5, 5), padding = 'valid', strides = (2, 2), activation = 'relu'))\n",
    "    model.add(Conv2D(64, (3, 3), padding = 'same', strides = (2, 2), activation = 'relu'))\n",
    "    model.add(Conv2D(64, (3, 3), padding = 'valid', strides = (2, 2), activation = 'relu'))\n",
    "    \n",
    "    model.add(Flatten())\n",
    "    \n",
    "    # Fully connected layers\n",
    "    model.add(Dense(1164, activation = 'relu'))\n",
    "    model.add(Dropout(keep_prob))\n",
    "    model.add(Dense(100, activation = 'relu'))\n",
    "    model.add(Dropout(keep_prob))\n",
    "    model.add(Dense(50, activation = 'relu'))\n",
    "    model.add(Dropout(keep_prob))\n",
    "    model.add(Dense(10, activation = 'relu'))\n",
    "    model.add(Dense(1))\n",
    "    \n",
    "    model.compile(loss = 'mse', optimizer = Adam())\n",
    "    return model"
   ]
  },
  {
   "cell_type": "markdown",
   "metadata": {},
   "source": [
    "### LeNet model"
   ]
  },
  {
   "cell_type": "code",
   "execution_count": null,
   "metadata": {
    "collapsed": true
   },
   "outputs": [],
   "source": [
    "#\\---> MODEL DEFINITION <----------------------------------------------------\\#\n",
    "def create_model_c4f3():\n",
    "    \n",
    "    model = Sequential()\n",
    "    \n",
    "    model.add(Lambda(lambda x: x/127.5 - 1.0,input_shape=(64,64,3)))\n",
    "    \n",
    "    model.add(Convolution2D(32, 8,8 ,border_mode='same', subsample=(4,4)))\n",
    "    model.add(Activation('relu'))\n",
    "    model.add(Convolution2D(64, 8,8 ,border_mode='same',subsample=(4,4)))\n",
    "    model.add(Activation('relu',name='relu2'))\n",
    "    model.add(Convolution2D(128, 4,4,border_mode='same',subsample=(2,2)))\n",
    "    model.add(Activation('relu'))\n",
    "    model.add(Convolution2D(128, 2,2,border_mode='same',subsample=(1,1)))\n",
    "    model.add(Activation('relu'))\n",
    "    \n",
    "    model.add(Flatten())\n",
    "    model.add(Dropout(0.5))\n",
    "    \n",
    "    model.add(Dense(128))\n",
    "    model.add(Activation('relu'))\n",
    "    model.add(Dropout(0.5))\n",
    "    model.add(Dense(128))\n",
    "    model.add(Dense(1))\n",
    "    \n",
    "    model.compile(optimizer=Adam(), loss='mse')\n",
    "    \n",
    "    return model"
   ]
  },
  {
   "cell_type": "markdown",
   "metadata": {},
   "source": [
    "### Simplified nvidia model"
   ]
  },
  {
   "cell_type": "code",
   "execution_count": null,
   "metadata": {
    "collapsed": true
   },
   "outputs": [],
   "source": [
    "def create_simple_nv_model():\n",
    "    # Define nvidia model\n",
    "    model = Sequential()\n",
    "    model.add(Lambda(lambda x: x / 255.0 - 0.5, input_shape = (64, 64, 3)))\n",
    "    model.add(Conv2D(24, (5, 5), padding = 'valid', strides = (2, 2), activation = 'relu'))\n",
    "    model.add(Conv2D(36, (5, 5), padding = 'valid', strides = (2, 2), activation = 'relu'))\n",
    "    model.add(Conv2D(48, (5, 5), padding = 'valid', strides = (2, 2), activation = 'relu'))\n",
    "    model.add(Conv2D(64, (3, 3), padding = 'same', strides = (2, 2), activation = 'relu'))\n",
    "    model.add(Conv2D(64, (3, 3), padding = 'valid', strides = (2, 2), activation = 'relu'))\n",
    "    model.add(Flatten())\n",
    "    model.add(Dense(256))\n",
    "    model.add(Dropout(0.5))\n",
    "    model.add(Dense(64))\n",
    "    model.add(Dropout(0.5))\n",
    "    model.add(Dense(16))\n",
    "    model.add(Dropout(0.5))\n",
    "    model.add(Dense(10))\n",
    "    model.add(Dense(1))\n",
    "    model.compile(loss = 'mse', optimizer = 'adam')\n",
    "    return model"
   ]
  },
  {
   "cell_type": "markdown",
   "metadata": {},
   "source": [
    "### Modified nvidia model"
   ]
  },
  {
   "cell_type": "code",
   "execution_count": null,
   "metadata": {
    "collapsed": true
   },
   "outputs": [],
   "source": [
    "def create_simple_nv_model():\n",
    "    model = Sequential()\n",
    "\n",
    "    model.add(Lambda(lambda x: x / 127.5 - 1.0, input_shape=(64, 64, 3)))\n",
    "\n",
    "    # starts with five convolutional and maxpooling layers\n",
    "    model.add(Conv2D(24, (5, 5), padding='same', strides=(2, 2), activation = 'relu'))\n",
    "    model.add(MaxPooling2D(pool_size=(2, 2), strides=(1, 1)))\n",
    "\n",
    "    model.add(Conv2D(36, (5, 5), padding='same', strides=(2, 2), activation = 'relu'))\n",
    "    model.add(MaxPooling2D(pool_size=(2, 2), strides=(1, 1)))\n",
    "\n",
    "    model.add(Convolution2D(48, (5, 5), padding='same', strides=(2, 2), activation = 'relu'))\n",
    "    model.add(MaxPooling2D(pool_size=(2, 2), strides=(1, 1)))\n",
    "\n",
    "    model.add(Convolution2D(64, (3, 3), padding='same', strides=(1, 1), activation = 'relu'))\n",
    "    model.add(MaxPooling2D(pool_size=(2, 2), strides=(1, 1)))\n",
    "\n",
    "    model.add(Convolution2D(64, (3, 3), padding='same', strides=(1, 1), activation = 'relu'))\n",
    "    model.add(MaxPooling2D(pool_size=(2, 2), strides=(1, 1)))\n",
    "\n",
    "    model.add(Flatten())\n",
    "\n",
    "    # Next, five fully connected layers\n",
    "    model.add(Dense(1164))\n",
    "    model.add(Activation(activation_relu))\n",
    "\n",
    "    model.add(Dense(100))\n",
    "    model.add(Activation(activation_relu))\n",
    "\n",
    "    model.add(Dense(50))\n",
    "    model.add(Activation(activation_relu))\n",
    "\n",
    "    model.add(Dense(10))\n",
    "    model.add(Activation(activation_relu))\n",
    "\n",
    "    model.add(Dense(1))\n",
    "\n",
    "    model.summary()\n",
    "\n",
    "    model.compile(optimizer=Adam(learning_rate), loss=\"mse\", )"
   ]
  },
  {
   "cell_type": "markdown",
   "metadata": {},
   "source": [
    "### Train model"
   ]
  },
  {
   "cell_type": "code",
   "execution_count": null,
   "metadata": {},
   "outputs": [],
   "source": [
    "### Choose model\n",
    "model_fn = create_model_nl_simple\n",
    "flag_new = False\n",
    "train_generator = original_data_generator(csv_train)#, use_lateral_cameras = False, shear_prob = 0.2,)\n",
    "valid_generator = original_data_generator(csv_valid)\n",
    "initial_epochs = 3\n",
    "train_factor = 1\n",
    "model_name = 'nl_simple'\n",
    "data_name = 'original'\n",
    "description = 'Non linear simple model. Non-transformed data'\n",
    "train_loss = []\n",
    "valid_loss = []"
   ]
  },
  {
   "cell_type": "code",
   "execution_count": null,
   "metadata": {},
   "outputs": [],
   "source": [
    "### Model creation / summary and graph\n",
    "if flag_new:\n",
    "    model = model_fn()\n",
    "else:\n",
    "    model = load_model('models/'+model_name+'_'+data_name+'.h5')\n",
    "model.summary()\n",
    "plot_model(model, show_shapes = True, show_layer_names = True, to_file='report-images/'+model_name+'.png')"
   ]
  },
  {
   "cell_type": "code",
   "execution_count": null,
   "metadata": {},
   "outputs": [],
   "source": [
    "# Initial training\n",
    "epochs = 1\n",
    "model, partial_train_loss, partial_valid_loss = \\\n",
    "    train_model(model, train_generator, len(csv_train)/BATCH_SIZE/train_factor,\n",
    "                valid_generator, len(csv_train)/BATCH_SIZE/train_factor, epochs)\n",
    "train_loss += partial_train_loss\n",
    "valid_loss += partial_valid_loss\n",
    "save_model(model, 'models/'+model_name+'_'+data_name+'.h5')"
   ]
  },
  {
   "cell_type": "code",
   "execution_count": null,
   "metadata": {},
   "outputs": [],
   "source": [
    "fig_curves = print_learning_curves(train_loss, valid_loss, model_name+'_'+data_name)\n",
    "fig_curves.savefig('report-images/learning_curves_'+model_name+'_'+data_name)"
   ]
  },
  {
   "cell_type": "code",
   "execution_count": null,
   "metadata": {},
   "outputs": [],
   "source": [
    "fig_angles = visualize_prediction(model, model_name+'_'+data_name, 1)\n",
    "fig_curves.savefig('report-images/angle_prediction_'+model_name+'_'+data_name)"
   ]
  },
  {
   "cell_type": "code",
   "execution_count": null,
   "metadata": {
    "collapsed": true
   },
   "outputs": [],
   "source": []
  }
 ],
 "metadata": {
  "kernelspec": {
   "display_name": "Python [conda env:sdc]",
   "language": "python",
   "name": "conda-env-sdc-py"
  },
  "language_info": {
   "codemirror_mode": {
    "name": "ipython",
    "version": 3
   },
   "file_extension": ".py",
   "mimetype": "text/x-python",
   "name": "python",
   "nbconvert_exporter": "python",
   "pygments_lexer": "ipython3",
   "version": "3.5.4"
  },
  "widgets": {
   "state": {},
   "version": "1.1.2"
  }
 },
 "nbformat": 4,
 "nbformat_minor": 2
}
