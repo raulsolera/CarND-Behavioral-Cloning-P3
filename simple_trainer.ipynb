{
 "cells": [
  {
   "cell_type": "code",
   "execution_count": 22,
   "metadata": {},
   "outputs": [],
   "source": [
    "import csv\n",
    "import cv2\n",
    "import numpy as np\n",
    "from keras.models import Sequential\n",
    "from keras.layers import Flatten, Dense, Lambda, Cropping2D, Conv2D, Dropout\n",
    "from keras.regularizers import l2"
   ]
  },
  {
   "cell_type": "code",
   "execution_count": 17,
   "metadata": {
    "collapsed": true
   },
   "outputs": [],
   "source": [
    "# Constants\n",
    "DATA_DIR = 'data/'\n",
    "CSV_FILE = 'driving_log.csv'\n",
    "\n",
    "# Parameters\n",
    "steering_correction = 0.25"
   ]
  },
  {
   "cell_type": "code",
   "execution_count": 18,
   "metadata": {
    "collapsed": true
   },
   "outputs": [],
   "source": [
    "# Load csv log file\n",
    "lines = []\n",
    "with open(DATA_DIR+CSV_FILE) as csvfile:\n",
    "    reader = csv.reader(csvfile)\n",
    "    next(reader, None)  # skip the headers\n",
    "    for line in reader:\n",
    "        lines.append(line)"
   ]
  },
  {
   "cell_type": "code",
   "execution_count": 13,
   "metadata": {},
   "outputs": [],
   "source": [
    "# Load images and steering data\n",
    "\n",
    "#Cameras parameters\n",
    "cameras = ['center', 'left', 'right']\n",
    "cameras_index = {'center':0, 'left':1, 'right':2} # 0:center, 1:left, 2:right\n",
    "cameras_steering_corretion = {'center':0, 'left':steering_correction, 'right':-steering_correction}\n",
    "\n",
    "# Data containers\n",
    "images = []\n",
    "measurements = []\n",
    "\n",
    "# Uploading images\n",
    "for line in lines:\n",
    "    for camera in cameras:\n",
    "        source_path = DATA_DIR + line[cameras_index[camera]].strip()\n",
    "        image = cv2.imread(source_path)\n",
    "        images.append(image)\n",
    "        measurement = float(line[3])+cameras_steering_corretion[camera]\n",
    "        measurements.append(measurement)\n",
    "X_data = np.array(images)\n",
    "y_data = np.array(measurements)"
   ]
  },
  {
   "cell_type": "code",
   "execution_count": 24,
   "metadata": {},
   "outputs": [
    {
     "name": "stdout",
     "output_type": "stream",
     "text": [
      "_________________________________________________________________\n",
      "Layer (type)                 Output Shape              Param #   \n",
      "=================================================================\n",
      "cropping2d_7 (Cropping2D)    (None, 105, 320, 3)       0         \n",
      "_________________________________________________________________\n",
      "lambda_8 (Lambda)            (None, 105, 320, 3)       0         \n",
      "_________________________________________________________________\n",
      "conv2d_11 (Conv2D)           (None, 51, 158, 24)       1824      \n",
      "_________________________________________________________________\n",
      "conv2d_12 (Conv2D)           (None, 24, 77, 36)        21636     \n",
      "_________________________________________________________________\n",
      "conv2d_13 (Conv2D)           (None, 10, 37, 48)        43248     \n",
      "_________________________________________________________________\n",
      "conv2d_14 (Conv2D)           (None, 5, 19, 64)         27712     \n",
      "_________________________________________________________________\n",
      "conv2d_15 (Conv2D)           (None, 2, 9, 64)          36928     \n",
      "_________________________________________________________________\n",
      "flatten_6 (Flatten)          (None, 1152)              0         \n",
      "_________________________________________________________________\n",
      "dense_10 (Dense)             (None, 80)                92240     \n",
      "_________________________________________________________________\n",
      "dropout_4 (Dropout)          (None, 80)                0         \n",
      "_________________________________________________________________\n",
      "dense_11 (Dense)             (None, 40)                3240      \n",
      "_________________________________________________________________\n",
      "dropout_5 (Dropout)          (None, 40)                0         \n",
      "_________________________________________________________________\n",
      "dense_12 (Dense)             (None, 16)                656       \n",
      "_________________________________________________________________\n",
      "dropout_6 (Dropout)          (None, 16)                0         \n",
      "_________________________________________________________________\n",
      "dense_13 (Dense)             (None, 10)                170       \n",
      "_________________________________________________________________\n",
      "dense_14 (Dense)             (None, 1)                 11        \n",
      "=================================================================\n",
      "Total params: 227,665\n",
      "Trainable params: 227,665\n",
      "Non-trainable params: 0\n",
      "_________________________________________________________________\n"
     ]
    }
   ],
   "source": [
    "# Define simple model\n",
    "model = Sequential()\n",
    "model.add(Cropping2D(cropping=((30,25),(0,0)), input_shape = (160, 320, 3)))\n",
    "model.add(Lambda(lambda x: x / 255.0 - 0.5))\n",
    "model.add(Conv2D(24, (5, 5), padding = 'valid', strides = (2, 2),\n",
    "                 kernel_initializer = 'random_uniform', bias_initializer = 'zeros',\n",
    "                 kernel_regularizer = l2(0.001), bias_regularizer = l2(0.001),\n",
    "                 activation = 'relu'))\n",
    "model.add(Conv2D(36, (5, 5), padding = 'valid', strides = (2, 2),\n",
    "                 kernel_initializer = 'random_uniform', bias_initializer = 'zeros',\n",
    "                 kernel_regularizer = l2(0.001), bias_regularizer = l2(0.001),\n",
    "                 activation = 'relu'))\n",
    "model.add(Conv2D(48, (5, 5), padding = 'valid', strides = (2, 2),\n",
    "                 kernel_initializer = 'random_uniform', bias_initializer = 'zeros',\n",
    "                 kernel_regularizer = l2(0.001), bias_regularizer = l2(0.001),\n",
    "                 activation = 'relu'))\n",
    "model.add(Conv2D(64, (3, 3), padding = 'same', strides = (2, 2),\n",
    "                 kernel_initializer = 'random_uniform', bias_initializer = 'zeros',\n",
    "                 kernel_regularizer = l2(0.001), bias_regularizer = l2(0.001),\n",
    "                 activation = 'relu'))\n",
    "model.add(Conv2D(64, (3, 3), padding = 'valid', strides = (2, 2),\n",
    "                 kernel_initializer = 'random_uniform', bias_initializer = 'zeros',\n",
    "                 kernel_regularizer = l2(0.001), bias_regularizer = l2(0.001),\n",
    "                 activation = 'relu'))\n",
    "model.add(Flatten())\n",
    "model.add(Dense(80, kernel_regularizer = l2(0.001), bias_regularizer = l2(0.001)))\n",
    "model.add(Dropout(0.5))\n",
    "model.add(Dense(40, kernel_regularizer = l2(0.001), bias_regularizer = l2(0.001)))\n",
    "model.add(Dropout(0.5))\n",
    "model.add(Dense(16, kernel_regularizer = l2(0.001), bias_regularizer = l2(0.001)))\n",
    "model.add(Dropout(0.5))\n",
    "model.add(Dense(10, kernel_regularizer = l2(0.001), bias_regularizer = l2(0.001)))\n",
    "model.add(Dense(1, kernel_regularizer = l2(0.001), bias_regularizer = l2(0.001)))\n",
    "model.summary()"
   ]
  },
  {
   "cell_type": "code",
   "execution_count": 25,
   "metadata": {},
   "outputs": [
    {
     "name": "stdout",
     "output_type": "stream",
     "text": [
      "Train on 19286 samples, validate on 4822 samples\n",
      "Epoch 1/3\n",
      "19286/19286 [==============================] - 1152s - loss: 0.0903 - val_loss: 0.0409\n",
      "Epoch 2/3\n",
      "19286/19286 [==============================] - 1116s - loss: 0.0381 - val_loss: 0.0350\n",
      "Epoch 3/3\n",
      "19286/19286 [==============================] - 1268s - loss: 0.0354 - val_loss: 0.0347\n"
     ]
    }
   ],
   "source": [
    "# Train simple model\n",
    "model.compile(loss = 'mse', optimizer = 'adam')\n",
    "model.fit(X_data, y_data, validation_split = 0.2, shuffle = True, epochs = 3)"
   ]
  },
  {
   "cell_type": "code",
   "execution_count": 26,
   "metadata": {
    "collapsed": true
   },
   "outputs": [],
   "source": [
    "# Save model\n",
    "model.save('model.h5')"
   ]
  },
  {
   "cell_type": "code",
   "execution_count": null,
   "metadata": {
    "collapsed": true
   },
   "outputs": [],
   "source": []
  }
 ],
 "metadata": {
  "kernelspec": {
   "display_name": "Python [conda env:sdc]",
   "language": "python",
   "name": "conda-env-sdc-py"
  },
  "language_info": {
   "codemirror_mode": {
    "name": "ipython",
    "version": 3
   },
   "file_extension": ".py",
   "mimetype": "text/x-python",
   "name": "python",
   "nbconvert_exporter": "python",
   "pygments_lexer": "ipython3",
   "version": "3.5.4"
  }
 },
 "nbformat": 4,
 "nbformat_minor": 2
}
