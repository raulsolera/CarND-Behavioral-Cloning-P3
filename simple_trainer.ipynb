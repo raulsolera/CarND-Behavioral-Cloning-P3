{
 "cells": [
  {
   "cell_type": "code",
   "execution_count": null,
   "metadata": {},
   "outputs": [],
   "source": [
    "### Imports\n",
    "# Modules\n",
    "import csv\n",
    "import cv2\n",
    "import numpy as np\n",
    "\n",
    "# Utilities\n",
    "from imgaug import augmenters as iaa\n",
    "from random import random\n",
    "from sklearn.model_selection import train_test_split\n",
    "\n",
    "# Keras\n",
    "from keras.models import Sequential\n",
    "from keras.layers import Flatten, Dense, Lambda, Cropping2D, Conv2D, Dropout\n",
    "from keras.regularizers import l2"
   ]
  },
  {
   "cell_type": "code",
   "execution_count": null,
   "metadata": {
    "collapsed": true
   },
   "outputs": [],
   "source": [
    "# Constants\n",
    "DATA_DIR = 'data/'\n",
    "CSV_FILE = 'driving_log.csv'\n",
    "\n",
    "# Generator parameters\n",
    "BATCH_SIZE = 16\n",
    "\n",
    "# Cropping parameters\n",
    "TOP_STRIDE_TO_CROP = 30\n",
    "BOTTOM_STRIDE_TO_CROP = 25\n",
    "\n",
    "# Augmentation parameters\n",
    "angle_treshold = 0.1\n",
    "\n",
    "# Parameters\n",
    "steering_correction = 0.25"
   ]
  },
  {
   "cell_type": "code",
   "execution_count": null,
   "metadata": {
    "collapsed": true
   },
   "outputs": [],
   "source": [
    "# Load csv log file\n",
    "csv_file = []\n",
    "with open(DATA_DIR+CSV_FILE) as csvfile:\n",
    "    reader = csv.reader(csvfile)\n",
    "    next(reader, None)  # skip the headers\n",
    "    for line in reader:\n",
    "        csv_file.append(line)"
   ]
  },
  {
   "cell_type": "code",
   "execution_count": null,
   "metadata": {
    "collapsed": true
   },
   "outputs": [],
   "source": [
    "# Split csv in train and validation sets\n",
    "csv_train, csv_valid = train_test_split(csv_file, test_size = 0.3)"
   ]
  },
  {
   "cell_type": "code",
   "execution_count": null,
   "metadata": {
    "collapsed": true
   },
   "outputs": [],
   "source": [
    "# Image transformations\n",
    "# Transformation list:\n",
    "tr_list = [iaa.Add((-75, 75)), # change brightness of images (by -10 to 10 of original value)\n",
    "           iaa.Multiply((0.5, 2.0)),\n",
    "           iaa.ContrastNormalization((0.5, 2.0)), # improve or worsen the contrast\n",
    "           iaa.Dropout((0.01, 0.1), per_channel=0.5), # randomly remove up to 10% of the pixels\n",
    "           iaa.AdditiveGaussianNoise(scale=(0, 0.1*255))]\n",
    "seq = iaa.SomeOf((0, 2), tr_list)"
   ]
  },
  {
   "cell_type": "code",
   "execution_count": null,
   "metadata": {},
   "outputs": [],
   "source": [
    "def transformed_data_generator(csv_file, batch_size = BATCH_SIZE):\n",
    "\n",
    "    # Camera parameters\n",
    "    cameras = ['center', 'left', 'right']\n",
    "    cameras_index = {'center':0, 'left':1, 'right':2} # 0:center, 1:left, 2:right\n",
    "    cameras_steering_corretion = {'center':0, 'left':steering_correction, 'right':-steering_correction}\n",
    "    \n",
    "    # Bath definitions\n",
    "    batch_train = np.zeros((batch_size, 160, 320, 3), dtype = np.uint8)\n",
    "    batch_angle = np.zeros((batch_size,), dtype = np.float32)\n",
    "    \n",
    "    # Loop to generate data\n",
    "    while True:\n",
    "        \n",
    "        # Generate data poins\n",
    "        for idx in range(batch_size):\n",
    "            \n",
    "            # Get random csv line\n",
    "            while True:\n",
    "                \n",
    "                line_idx = np.random.choice(len(csv_file))\n",
    "                angle = float(csv_file[line_idx][3])\n",
    "                # If angle above treshold get it\n",
    "                if angle > angle_treshold:\n",
    "                    break\n",
    "                # if below, discard with 0.5 prob\n",
    "                elif random() > 0.5:\n",
    "                    break   \n",
    "            \n",
    "            ### Randomly choose center, left or right image\n",
    "            # Get random camera 0:center, 1:left, 2:right \n",
    "            camera = np.random.choice(cameras)\n",
    "            # Load image\n",
    "            path = DATA_DIR + csv_file[line_idx][cameras_index[camera]].strip()\n",
    "            batch_train[idx] = cv2.imread(path)\n",
    "            # Adjust angle\n",
    "            batch_angle[idx] = angle + cameras_steering_corretion[camera]\n",
    "            \n",
    "            ### Randomly flip\n",
    "            # If flip image with 0.5 prob\n",
    "            if random() > 0.5:\n",
    "                batch_train[idx] = cv2.flip(batch_train[idx],1)\n",
    "                batch_angle[idx] *= -1\n",
    "        \n",
    "        ### Random image transformation\n",
    "        # up to two of the following transformations:\n",
    "        # Bright augmentation\n",
    "        # Multiply\n",
    "        # Contrast normalization\n",
    "        # Dropout ()\n",
    "        # Additive Gaussian Noise\n",
    "        batch_train = seq.augment_images(batch_train)\n",
    "            \n",
    "        yield batch_train, batch_angle"
   ]
  },
  {
   "cell_type": "code",
   "execution_count": null,
   "metadata": {
    "collapsed": true
   },
   "outputs": [],
   "source": [
    "def original_data_generator(csv_file, batch_size = BATCH_SIZE):\n",
    "    \n",
    "    batch_train = np.zeros((batch_size, 160, 320, 3), dtype = np.uint8)\n",
    "    batch_angle = np.zeros((batch_size,), dtype = np.float32)\n",
    "    while True:\n",
    "        for idx in range(batch_size):\n",
    "            # Get random csv line\n",
    "            line_idx = np.random.choice(len(csv_file))\n",
    "            # Load image \n",
    "            path = DATA_DIR + csv_file[line_idx][0].strip()\n",
    "            batch_train[idx] = cv2.imread(path)\n",
    "            # Load angle\n",
    "            batch_angle[idx] = float(csv_file[line_idx][3])          \n",
    "            \n",
    "        yield batch_train, batch_angle"
   ]
  },
  {
   "cell_type": "code",
   "execution_count": null,
   "metadata": {},
   "outputs": [],
   "source": [
    "train_data_generator = transformed_data_generator(csv_train)\n",
    "valid_data_generator = original_data_generator(csv_valid)"
   ]
  },
  {
   "cell_type": "code",
   "execution_count": null,
   "metadata": {},
   "outputs": [],
   "source": [
    "# Define simple model\n",
    "model = Sequential()\n",
    "model.add(Cropping2D(cropping=((30,25),(0,0)), input_shape = (160, 320, 3)))\n",
    "model.add(Lambda(lambda x: x / 255.0 - 0.5))\n",
    "model.add(Conv2D(24, (5, 5), padding = 'valid', strides = (2, 2),\n",
    "                 kernel_initializer = 'random_uniform', bias_initializer = 'zeros',\n",
    "                 kernel_regularizer = l2(0.001), bias_regularizer = l2(0.001),\n",
    "                 activation = 'relu'))\n",
    "model.add(Conv2D(36, (5, 5), padding = 'valid', strides = (2, 2),\n",
    "                 kernel_initializer = 'random_uniform', bias_initializer = 'zeros',\n",
    "                 kernel_regularizer = l2(0.001), bias_regularizer = l2(0.001),\n",
    "                 activation = 'relu'))\n",
    "model.add(Conv2D(48, (5, 5), padding = 'valid', strides = (2, 2),\n",
    "                 kernel_initializer = 'random_uniform', bias_initializer = 'zeros',\n",
    "                 kernel_regularizer = l2(0.001), bias_regularizer = l2(0.001),\n",
    "                 activation = 'relu'))\n",
    "model.add(Conv2D(64, (3, 3), padding = 'same', strides = (2, 2),\n",
    "                 kernel_initializer = 'random_uniform', bias_initializer = 'zeros',\n",
    "                 kernel_regularizer = l2(0.001), bias_regularizer = l2(0.001),\n",
    "                 activation = 'relu'))\n",
    "model.add(Conv2D(64, (3, 3), padding = 'valid', strides = (2, 2),\n",
    "                 kernel_initializer = 'random_uniform', bias_initializer = 'zeros',\n",
    "                 kernel_regularizer = l2(0.001), bias_regularizer = l2(0.001),\n",
    "                 activation = 'relu'))\n",
    "model.add(Flatten())\n",
    "model.add(Dense(80, kernel_regularizer = l2(0.001), bias_regularizer = l2(0.001)))\n",
    "model.add(Dropout(0.5))\n",
    "model.add(Dense(40, kernel_regularizer = l2(0.001), bias_regularizer = l2(0.001)))\n",
    "model.add(Dropout(0.5))\n",
    "model.add(Dense(16, kernel_regularizer = l2(0.001), bias_regularizer = l2(0.001)))\n",
    "model.add(Dropout(0.5))\n",
    "model.add(Dense(10, kernel_regularizer = l2(0.001), bias_regularizer = l2(0.001)))\n",
    "model.add(Dense(1, kernel_regularizer = l2(0.001), bias_regularizer = l2(0.001)))\n",
    "model.summary()"
   ]
  },
  {
   "cell_type": "code",
   "execution_count": null,
   "metadata": {},
   "outputs": [],
   "source": [
    "model.compile(loss = 'mse', optimizer = 'adam')\n",
    "model.fit_generator(train_data_generator, steps_per_epoch = len(csv_train)/BATCH_SIZE,\n",
    "                    nb_epoch=5, #FLAGS.epochs,\n",
    "                    validation_data = valid_data_generator, validation_steps = len(csv_valid)/BATCH_SIZE)"
   ]
  },
  {
   "cell_type": "code",
   "execution_count": null,
   "metadata": {
    "collapsed": true
   },
   "outputs": [],
   "source": [
    "# Save model\n",
    "model.save('model.h5')"
   ]
  }
 ],
 "metadata": {
  "kernelspec": {
   "display_name": "Python [conda env:sdc]",
   "language": "python",
   "name": "conda-env-sdc-py"
  },
  "language_info": {
   "codemirror_mode": {
    "name": "ipython",
    "version": 3
   },
   "file_extension": ".py",
   "mimetype": "text/x-python",
   "name": "python",
   "nbconvert_exporter": "python",
   "pygments_lexer": "ipython3",
   "version": "3.5.4"
  }
 },
 "nbformat": 4,
 "nbformat_minor": 2
}
