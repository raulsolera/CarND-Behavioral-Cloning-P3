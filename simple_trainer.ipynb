{
 "cells": [
  {
   "cell_type": "code",
   "execution_count": null,
   "metadata": {},
   "outputs": [],
   "source": [
    "### Imports\n",
    "# Modules\n",
    "import csv\n",
    "import cv2\n",
    "import numpy as np\n",
    "import matplotlib.pyplot as plt\n",
    "\n",
    "# Utilities\n",
    "from imgaug import augmenters as iaa\n",
    "from random import random\n",
    "from sklearn.model_selection import train_test_split\n",
    "from sklearn.utils import shuffle\n",
    "\n",
    "# Keras\n",
    "from keras.models import Sequential, load_model\n",
    "from keras.layers import Flatten, Dense, Lambda, Cropping2D, Conv2D, Dropout\n",
    "from keras.regularizers import l2\n",
    "\n",
    "# Plot in the notebook\n",
    "%matplotlib inline"
   ]
  },
  {
   "cell_type": "code",
   "execution_count": null,
   "metadata": {
    "collapsed": true
   },
   "outputs": [],
   "source": [
    "# Constants\n",
    "DATA_DIR = 'data/'\n",
    "CSV_FILE = 'driving_log.csv'\n",
    "\n",
    "# Generator parameters\n",
    "BATCH_SIZE = 32\n",
    "\n",
    "# Cropping parameters\n",
    "TOP_STRIDE_TO_CROP = 30\n",
    "BOTTOM_STRIDE_TO_CROP = 25\n",
    "\n",
    "# Augmentation parameters\n",
    "angle_treshold = 0.1\n",
    "zero_discard_prob = 0.9\n",
    "\n",
    "# Parameters\n",
    "steering_correction = 0.25"
   ]
  },
  {
   "cell_type": "code",
   "execution_count": null,
   "metadata": {
    "collapsed": true
   },
   "outputs": [],
   "source": [
    "# Load csv log file\n",
    "csv_file = []\n",
    "with open(DATA_DIR+CSV_FILE) as csvfile:\n",
    "    reader = csv.reader(csvfile)\n",
    "    next(reader, None)  # skip the headers\n",
    "    for line in reader:\n",
    "        csv_file.append(line)"
   ]
  },
  {
   "cell_type": "code",
   "execution_count": null,
   "metadata": {
    "collapsed": true
   },
   "outputs": [],
   "source": [
    "# Split csv in train and validation sets\n",
    "csv_train, csv_valid = train_test_split(csv_file, test_size = 0.2)"
   ]
  },
  {
   "cell_type": "code",
   "execution_count": null,
   "metadata": {
    "collapsed": true
   },
   "outputs": [],
   "source": [
    "# Load images and steering data\n",
    "images = []\n",
    "measurements = []\n",
    "for line in csv_file:\n",
    "    source_path = 'data/' + line[0]\n",
    "    image = cv2.imread(source_path)\n",
    "    images.append(image)\n",
    "    measurement = float(line[3])\n",
    "    measurements.append(measurement)\n",
    "X_train = np.array(images)\n",
    "y_train = np.array(measurements)"
   ]
  },
  {
   "cell_type": "code",
   "execution_count": null,
   "metadata": {
    "collapsed": true
   },
   "outputs": [],
   "source": [
    "# Image transformations\n",
    "# Transformation list:\n",
    "tr_list = [iaa.Add((-75, 75)), # change brightness of images (by -10 to 10 of original value)\n",
    "           iaa.Multiply((0.5, 2.0)),\n",
    "           iaa.ContrastNormalization((0.5, 2.0)), # improve or worsen the contrast\n",
    "           iaa.Dropout((0.01, 0.1), per_channel=0.5), # randomly remove up to 10% of the pixels\n",
    "           iaa.AdditiveGaussianNoise(scale=(0, 0.1*255))]\n",
    "seq = iaa.SomeOf((0, 2), tr_list)"
   ]
  },
  {
   "cell_type": "code",
   "execution_count": null,
   "metadata": {
    "collapsed": true
   },
   "outputs": [],
   "source": [
    "# Get sample image for testing\n",
    "sample_idx = np.random.choice(len(csv_file))\n",
    "path = DATA_DIR + csv_file[sample_idx][0].strip()\n",
    "sample_image = cv2.imread(path)\n",
    "sample_angle = csv_file[sample_idx][3]"
   ]
  },
  {
   "cell_type": "code",
   "execution_count": null,
   "metadata": {},
   "outputs": [],
   "source": [
    "### Test image transformations\n",
    "# Graph paramters\n",
    "plot_width, plot_height = 15, 9\n",
    "grid_rows, grid_cols = 5, 5\n",
    "sample_size = grid_rows * grid_cols \n",
    "\n",
    "# Plot \n",
    "fig = plt.figure(figsize = (plot_width, plot_height))\n",
    "fig.subplots_adjust(left = 0, right = 1, bottom = 0, top = 1, hspace = 0.05, wspace = 0.05)\n",
    "counter = 1\n",
    "for tr_fn in tr_list:\n",
    "    # Print non-transformed image\n",
    "    imgplt = fig.add_subplot(grid_rows, grid_cols, counter)\n",
    "    imgplt.imshow(cv2.cvtColor(sample_image, cv2.COLOR_BGR2RGB))\n",
    "    imgplt.axis('off')\n",
    "    imgplt.set_title('Original')\n",
    "    counter += 1\n",
    "    # Print transformed images\n",
    "    tr_images = tr_fn.augment_images([sample_image]*(grid_cols-1))\n",
    "    print_title = True\n",
    "    for tr_image in tr_images:\n",
    "        imgplt = fig.add_subplot(grid_rows, grid_cols, counter)\n",
    "        imgplt.imshow(cv2.cvtColor(tr_image, cv2.COLOR_BGR2RGB))\n",
    "        imgplt.axis('off')\n",
    "        if print_title:\n",
    "            imgplt.set_title('{}: {}'.format(tr_fn.name[7:],' '.join(tr_fn.__doc__.split('.')[0].split())), loc='left')\n",
    "            print_title = False\n",
    "        counter += 1"
   ]
  },
  {
   "cell_type": "code",
   "execution_count": null,
   "metadata": {
    "collapsed": true
   },
   "outputs": [],
   "source": [
    "def transformed_data_generator(csv_file, batch_size = BATCH_SIZE, image_load = True):\n",
    "\n",
    "    # Camera parameters\n",
    "    cameras = ['center', 'left', 'right']\n",
    "    cameras_index = {'center':0, 'left':1, 'right':2} # 0:center, 1:left, 2:right\n",
    "    cameras_steering_corretion = {'center':0, 'left':steering_correction, 'right':-steering_correction}\n",
    "    \n",
    "    # Loop to generate data\n",
    "    while True:\n",
    "\n",
    "        # Shuffle data\n",
    "        shuffle(csv_file)        \n",
    "        \n",
    "        # Generate data poins\n",
    "        for idx in range(batch_size):\n",
    "            \n",
    "            # Get random csv line\n",
    "            while True:\n",
    "                line_idx = np.random.choice(len(csv_file))\n",
    "                angle = float(csv_file[line_idx][3])\n",
    "                # If angle above treshold get it\n",
    "                if angle > angle_treshold:\n",
    "                    break\n",
    "                # if below, discard with certain prob\n",
    "                elif random() > zero_discard_prob:\n",
    "                    break   \n",
    "            \n",
    "            ### Randomly choose center, left or right image\n",
    "            # Get random camera 0:center, 1:left, 2:right \n",
    "            camera_idx = np.random.choice(3)\n",
    "            # Load image\n",
    "            path = DATA_DIR + csv_file[line_idx][camera_idx].strip()\n",
    "            if image_load:\n",
    "                image = cv2.imread(path)\n",
    "                batch_train[idx] = image\n",
    "            # Adjust angle\n",
    "            shift_angle = [0, 0.25, -0.25][camera_idx]\n",
    "            batch_angle[idx] = angle + shift_angle\n",
    "            \n",
    "            ### Randomly flip\n",
    "            # If flip image with 0.5 prob\n",
    "            if random() > 0.5:\n",
    "                batch_train[idx] = cv2.flip(batch_train[idx],1)\n",
    "                batch_angle[idx] *= -1\n",
    "        \n",
    "        ### Random image transformation\n",
    "        # up to two of the following transformations:\n",
    "        # Bright augmentation\n",
    "        # Multiply\n",
    "        # Contrast normalization\n",
    "        # Dropout ()\n",
    "        # Additive Gaussian Noise\n",
    "        if image_load:\n",
    "            batch_train = seq.augment_images(batch_train)\n",
    "            \n",
    "        yield batch_train, batch_angle"
   ]
  },
  {
   "cell_type": "code",
   "execution_count": null,
   "metadata": {
    "collapsed": true
   },
   "outputs": [],
   "source": [
    "def original_data_generator(csv_file, batch_size = BATCH_SIZE, image_load = True):\n",
    "    \n",
    "    batch_train = np.zeros((batch_size, 160, 320, 3), dtype = np.uint8)\n",
    "    batch_angle = np.zeros((batch_size,), dtype = np.float32)\n",
    "    while True:\n",
    "        \n",
    "        # Shuffle data in each batch\n",
    "        shuffle(csv_file)\n",
    "        \n",
    "        for idx in range(batch_size):\n",
    "            # Get random csv line\n",
    "            line_idx = np.random.choice(len(csv_file))\n",
    "            # Load image \n",
    "            path = DATA_DIR + csv_file[line_idx][0].strip()\n",
    "            if image_load:\n",
    "                batch_train[idx] = cv2.imread(path)\n",
    "            # Load angle\n",
    "            batch_angle[idx] = float(csv_file[line_idx][3])          \n",
    "            \n",
    "        yield batch_train, batch_angle"
   ]
  },
  {
   "cell_type": "code",
   "execution_count": null,
   "metadata": {
    "collapsed": true
   },
   "outputs": [],
   "source": [
    "train_data_generator = transformed_data_generator(csv_train)\n",
    "train_data_generator = original_data_generator(csv_train)\n",
    "valid_data_generator = original_data_generator(csv_valid)"
   ]
  },
  {
   "cell_type": "code",
   "execution_count": null,
   "metadata": {},
   "outputs": [],
   "source": [
    "for images, angles in train_data_generator:\n",
    "    break\n",
    "\n",
    "plot_width, plot_height = 15, 5\n",
    "grid_rows, grid_cols = 4, 8\n",
    "\n",
    "fig = plt.figure(figsize = (plot_width, plot_height))\n",
    "fig.subplots_adjust(left = 0, right = 1, bottom = 0, top = 1, hspace = 0.05, wspace = 0.05)\n",
    "counter = 1\n",
    "for image, angle in zip(images, angles):\n",
    "    imgplt = fig.add_subplot(grid_rows, grid_cols, counter)\n",
    "    counter += 1\n",
    "    imgplt.imshow(cv2.cvtColor(image, cv2.COLOR_BGR2RGB))\n",
    "    imgplt.axis('off')\n",
    "    imgplt.set_title(angle)"
   ]
  },
  {
   "cell_type": "code",
   "execution_count": null,
   "metadata": {},
   "outputs": [],
   "source": [
    "zero_discard_prob = 0.90\n",
    "sample_size = 100\n",
    "\n",
    "tr_angles = []\n",
    "counter = 0\n",
    "for images, angles in transformed_data_generator(csv_train, image_load = False):\n",
    "    counter += 1\n",
    "    tr_angles = np.concatenate((tr_angles, angles))\n",
    "    if counter > sample_size: break\n",
    "\n",
    "or_angles = []\n",
    "counter = 0\n",
    "for images, angles in original_data_generator(csv_train, image_load = False):\n",
    "    counter += 1\n",
    "    or_angles = np.concatenate((or_angles, angles))\n",
    "    if counter > sample_size: break        \n",
    "        \n",
    "buckets = np.arange(-1,1,0.05)\n",
    "\n",
    "fig = plt.figure(figsize = (12, 3))\n",
    "fig.subplots_adjust(left = 0, right = 1, bottom = 0, top = 1, hspace = 0.05, wspace = 0.05)\n",
    "\n",
    "hstplt = fig.add_subplot(1, 2, 1)\n",
    "hist = hstplt.hist(or_angles, bins = buckets)\n",
    "\n",
    "hstplt = fig.add_subplot(1, 2, 2)\n",
    "hist = hstplt.hist(tr_angles, bins = buckets)"
   ]
  },
  {
   "cell_type": "code",
   "execution_count": null,
   "metadata": {
    "collapsed": true
   },
   "outputs": [],
   "source": [
    "# Define nvidia model\n",
    "nv_model = Sequential()\n",
    "nv_model.add(Cropping2D(cropping=((30,25),(0,0)), input_shape = (160, 320, 3)))\n",
    "nv_model.add(Lambda(lambda x: x / 255.0 - 0.5))\n",
    "nv_model.add(Conv2D(24, (5, 5), padding = 'valid', strides = (2, 2), activation = 'relu'))\n",
    "nv_model.add(Conv2D(36, (5, 5), padding = 'valid', strides = (2, 2), activation = 'relu'))\n",
    "nv_model.add(Conv2D(48, (5, 5), padding = 'valid', strides = (2, 2), activation = 'relu'))\n",
    "nv_model.add(Conv2D(64, (3, 3), padding = 'same', strides = (2, 2), activation = 'relu'))\n",
    "nv_model.add(Conv2D(64, (3, 3), padding = 'valid', strides = (2, 2), activation = 'relu'))\n",
    "nv_model.add(Flatten())\n",
    "nv_model.add(Dense(80))\n",
    "nv_model.add(Dropout(0.5))\n",
    "nv_model.add(Dense(40))\n",
    "nv_model.add(Dropout(0.5))\n",
    "nv_model.add(Dense(16))\n",
    "nv_model.add(Dropout(0.5))\n",
    "nv_model.add(Dense(10))\n",
    "nv_model.add(Dense(1))\n",
    "# nv_model.summary()\n",
    "nv_model.compile(loss = 'mse', optimizer = 'adam')"
   ]
  },
  {
   "cell_type": "code",
   "execution_count": null,
   "metadata": {
    "collapsed": true
   },
   "outputs": [],
   "source": [
    "nv_history_object = nv_model.fit(X_train, y_train, validation_split = 0.2, shuffle = True, epochs = 3)\n",
    "for images, angles in valid_data_generator:\n",
    "    break\n",
    "steering_angles = nv_model.predict(images)\n",
    "print(steering_angles.T)"
   ]
  },
  {
   "cell_type": "code",
   "execution_count": null,
   "metadata": {},
   "outputs": [],
   "source": [
    "nv_history_object = nv_model.fit_generator(train_data_generator, steps_per_epoch = len(csv_train)/BATCH_SIZE,\n",
    "                                 epochs=1, #FLAGS.epochs,\n",
    "                                 validation_data = valid_data_generator, validation_steps = len(csv_valid)/BATCH_SIZE)\n",
    "steering_angles = nv_model.predict(images)\n",
    "print(steering_angles.T)"
   ]
  },
  {
   "cell_type": "code",
   "execution_count": null,
   "metadata": {
    "collapsed": true
   },
   "outputs": [],
   "source": [
    "# Save model\n",
    "model.save('nv_model.h5')"
   ]
  },
  {
   "cell_type": "code",
   "execution_count": null,
   "metadata": {
    "collapsed": true
   },
   "outputs": [],
   "source": [
    "### plot the training and validation loss for each epoch\n",
    "plt.plot(nv_history_object.history['loss'])\n",
    "plt.plot(nv_history_object.history['val_loss'])\n",
    "plt.title('model mean squared error loss')\n",
    "plt.ylabel('mean squared error loss')\n",
    "plt.xlabel('epoch')\n",
    "plt.legend(['training set', 'validation set'], loc='upper right')"
   ]
  },
  {
   "cell_type": "code",
   "execution_count": null,
   "metadata": {
    "collapsed": true
   },
   "outputs": [],
   "source": [
    "# Define simple model\n",
    "simple_model = Sequential()\n",
    "simple_model.add(Lambda(lambda x: x / 255.0 - 0.5, input_shape = (160, 320, 3)))\n",
    "simple_model.add(Flatten(input_shape= (160, 320, 3)))\n",
    "simple_model.add(Dense(1))\n",
    "simple_model.compile(loss = 'mse', optimizer = 'adam')"
   ]
  },
  {
   "cell_type": "code",
   "execution_count": null,
   "metadata": {},
   "outputs": [],
   "source": [
    "simple_model.fit(X_train, y_train, validation_split = 0.2, shuffle = True, epochs = 5)\n",
    "for images, angles in valid_data_generator:\n",
    "    break\n",
    "steering_angles = simple_model.predict(images)\n",
    "print(steering_angles.T)"
   ]
  },
  {
   "cell_type": "code",
   "execution_count": null,
   "metadata": {},
   "outputs": [],
   "source": [
    "nv_history_object = simple_model.fit_generator(train_data_generator, steps_per_epoch = len(csv_train)/BATCH_SIZE,\n",
    "                                 epochs=5, #FLAGS.epochs,\n",
    "                                 validation_data = valid_data_generator, validation_steps = len(csv_valid)/BATCH_SIZE)\n",
    "steering_angles = simple_model.predict(images)\n",
    "print(steering_angles.T)"
   ]
  },
  {
   "cell_type": "code",
   "execution_count": null,
   "metadata": {
    "collapsed": true
   },
   "outputs": [],
   "source": [
    "# Save model\n",
    "model.save('simple_model.h5')"
   ]
  }
 ],
 "metadata": {
  "kernelspec": {
   "display_name": "Python [conda env:sdc]",
   "language": "python",
   "name": "conda-env-sdc-py"
  },
  "language_info": {
   "codemirror_mode": {
    "name": "ipython",
    "version": 3
   },
   "file_extension": ".py",
   "mimetype": "text/x-python",
   "name": "python",
   "nbconvert_exporter": "python",
   "pygments_lexer": "ipython3",
   "version": "3.5.4"
  }
 },
 "nbformat": 4,
 "nbformat_minor": 2
}
