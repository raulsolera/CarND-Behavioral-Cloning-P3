{
 "cells": [
  {
   "cell_type": "code",
   "execution_count": null,
   "metadata": {},
   "outputs": [],
   "source": [
    "### Imports\n",
    "# Modules\n",
    "import numpy as np\n",
    "import cv2\n",
    "import csv\n",
    "import matplotlib.pyplot as plt\n",
    "import os\n",
    "import errno\n",
    "\n",
    "# utils\n",
    "from sklearn.utils import shuffle\n",
    "from imgaug import augmenters as iaa\n",
    "from sklearn.model_selection import train_test_split\n",
    "\n",
    "# Keras\n",
    "from keras.models import Sequential, load_model\n",
    "from keras.layers import Flatten, Dense, Lambda, Cropping2D, Conv2D, Dropout, MaxPooling2D\n",
    "from keras.optimizers import Adam, SGD\n",
    "from keras.regularizers import l2\n",
    "\n",
    "# Plot in the notebook\n",
    "%matplotlib inline"
   ]
  },
  {
   "cell_type": "code",
   "execution_count": null,
   "metadata": {
    "collapsed": true
   },
   "outputs": [],
   "source": [
    "### Constants\n",
    "# Data\n",
    "DATA_DIR = 'data/'\n",
    "CSV_FILE = 'driving_log.csv'\n",
    "\n",
    "# Resize constants\n",
    "TOP_CUT = 30\n",
    "BOTTOM_CUT = 30\n",
    "NEW_WIDTH = 64\n",
    "NEW_HEIGHT = 64\n",
    "MAX_ROTATION_ANGLE = 15\n",
    "MAX_SHEAR_SHIFT = 40\n",
    "\n",
    "# Data generation constants\n",
    "BATCH_SIZE = 32\n",
    "STEERING_CORRECTION = 0.23"
   ]
  },
  {
   "cell_type": "code",
   "execution_count": null,
   "metadata": {
    "collapsed": true
   },
   "outputs": [],
   "source": [
    "# Delete previous files:\n",
    "def delete_file(file_name):\n",
    "    try:\n",
    "        os.remove(file_name)\n",
    "    except OSError as error:\n",
    "        if error.errno != errno.ENOENT:\n",
    "            raise"
   ]
  },
  {
   "cell_type": "code",
   "execution_count": null,
   "metadata": {
    "collapsed": true
   },
   "outputs": [],
   "source": [
    "### Load data\n",
    "# Load csv log file\n",
    "csv_file = []\n",
    "with open(DATA_DIR+CSV_FILE) as csvfile:\n",
    "    reader = csv.reader(csvfile)\n",
    "    next(reader, None)  # skip the headers\n",
    "    for line in reader:\n",
    "        csv_file.append(line)"
   ]
  },
  {
   "cell_type": "code",
   "execution_count": null,
   "metadata": {
    "collapsed": true
   },
   "outputs": [],
   "source": [
    "# Split csv in train and validation sets\n",
    "csv_train, csv_valid = train_test_split(csv_file, test_size = 0.2)"
   ]
  },
  {
   "cell_type": "code",
   "execution_count": null,
   "metadata": {},
   "outputs": [],
   "source": [
    "### Sample image\n",
    "# Get sample image for testing\n",
    "sample_idx = np.random.choice(len(csv_file))\n",
    "path = DATA_DIR + csv_file[sample_idx][0].strip()\n",
    "sample_image = cv2.imread(path)\n",
    "sample_angle = float(csv_file[sample_idx][3])\n",
    "plt.imshow(cv2.cvtColor(sample_image, cv2.COLOR_BGR2RGB))"
   ]
  },
  {
   "cell_type": "code",
   "execution_count": null,
   "metadata": {},
   "outputs": [],
   "source": [
    "### Image transformations\n",
    "# Crop image\n",
    "def crop(image, top_cut = TOP_CUT, bottom_cut = BOTTOM_CUT, left_cut = 0, right_cut = 0):\n",
    "    \"\"\"\n",
    "    Crop top, bottom, left and right sides of image\n",
    "    \"\"\"\n",
    "    height, width = image.shape[0:2]\n",
    "    cropped_image = image[top_cut:height-bottom_cut, left_cut:width-right_cut, :]\n",
    "    return cropped_image\n",
    "\n",
    "# Resize image\n",
    "def resize(image, new_width = NEW_WIDTH, new_height = NEW_HEIGHT):\n",
    "    \"\"\"\n",
    "    Resize image to new size\n",
    "    \"\"\"\n",
    "    return cv2.resize(image,(new_width, new_height), interpolation=cv2.INTER_AREA)\n",
    "\n",
    "# Random flip\n",
    "def random_flip(image, angle):\n",
    "    \"\"\"\n",
    "    Random flip image horizontally with probability of 0.5\n",
    "    \"\"\"\n",
    "    if np.random.random() > 0.5:\n",
    "        image = cv2.flip(image,1)\n",
    "        angle *= -1.  \n",
    "    return image, angle\n",
    "    \n",
    "# Random brightnes correction\n",
    "def random_brightness_correction(image, angle):\n",
    "    \"\"\"\n",
    "    Correct brightness of image in a random factor from (0.3, 1.7) in all channels\n",
    "    \"\"\"\n",
    "    brightness_factor = np.random.uniform(0.4, 1.6)\n",
    "    image = image * brightness_factor\n",
    "    image[image > 255] = 255\n",
    "    image = np.array(image, dtype = np.uint8)\n",
    "    return image, angle\n",
    "\n",
    "# Random shear\n",
    "def random_shear(image, angle, shear_range = MAX_SHEAR_SHIFT):\n",
    "    \"\"\"\n",
    "    Shear (affine transformation) horizontally by a random shift in the range of shear_range\n",
    "    Implies also steering angle correction\n",
    "    https://docs.opencv.org/2.4/doc/tutorials/imgproc/imgtrans/warp_affine/warp_affine.html\n",
    "    \"\"\"\n",
    "    rows, cols, channels = image.shape\n",
    "    shear_shift = np.random.randint(-shear_range, shear_range+1)\n",
    "    random_point = [cols/2+shear_shift, rows/2]\n",
    "    pts1 = np.float32([[0, rows], [cols, rows], [cols/2, rows/2]])\n",
    "    pts2 = np.float32([[0, rows], [cols, rows], random_point])\n",
    "    M = cv2.getAffineTransform(pts1, pts2)\n",
    "    image = cv2.warpAffine(image, M, (cols, rows))\n",
    "    shear_angle = shear_shift / (rows/2) * 180 / (np.pi*25.0) / 6   \n",
    "\n",
    "    return image, angle + shear_angle\n",
    "\n",
    "# Random rotation\n",
    "def random_rotate(image, angle, rotation_range = MAX_ROTATION_ANGLE):\n",
    "    \"\"\"\n",
    "    Rotate image by a random angle in the range of rotation_range\n",
    "    Implies also steering angle correction\n",
    "    \"\"\"\n",
    "    rotation_angle = np.random.uniform(-rotation_range, rotation_range+1)\n",
    "    rotate_fun = iaa.Affine(rotate=(-rotation_angle))\n",
    "    image = rotate_fun.augment_images([image])[0]\n",
    "    rad = (np.pi / 180.0) * rotation_angle\n",
    "    return image, angle - rad"
   ]
  },
  {
   "cell_type": "code",
   "execution_count": null,
   "metadata": {},
   "outputs": [],
   "source": [
    "### Testing image transformation\n",
    "transformation_functions = [random_flip, random_brightness_correction, random_shear, random_rotate]\n",
    "\n",
    "### Test image transformations\n",
    "# Graph paramters\n",
    "plot_width, plot_height = 15, 7\n",
    "grid_rows, grid_cols = 4, 5\n",
    "sample_size = grid_rows * grid_cols \n",
    "\n",
    "# Plot \n",
    "fig = plt.figure(figsize = (plot_width, plot_height))\n",
    "fig.subplots_adjust(left = 0, right = 1, bottom = 0, top = 1, hspace = 0.05, wspace = 0.05)\n",
    "counter = 1\n",
    "for tr_fn in transformation_functions:\n",
    "    # Print non-transformed image\n",
    "    imgplt = fig.add_subplot(grid_rows, grid_cols, counter)\n",
    "    imgplt.imshow(cv2.cvtColor(sample_image, cv2.COLOR_BGR2RGB))\n",
    "    imgplt.axis('off')\n",
    "    imgplt.set_title('Original')\n",
    "    counter += 1\n",
    "    # Print transformed images\n",
    "    print_title = True\n",
    "    for idx in range(4):\n",
    "        tr_image, tr_angle = tr_fn(sample_image, sample_angle)\n",
    "        imgplt = fig.add_subplot(grid_rows, grid_cols, counter)\n",
    "        imgplt.imshow(cv2.cvtColor(tr_image, cv2.COLOR_BGR2RGB))\n",
    "        imgplt.axis('off')\n",
    "        if print_title:\n",
    "            imgplt.set_title(tr_fn.__name__, loc = 'left')\n",
    "            print_title = False\n",
    "        counter += 1"
   ]
  },
  {
   "cell_type": "code",
   "execution_count": null,
   "metadata": {
    "collapsed": true
   },
   "outputs": [],
   "source": [
    "### Generator\n",
    "def transformed_data_generator(data, data_dir = DATA_DIR,\n",
    "                               batch_size = BATCH_SIZE,\n",
    "                               image_load = True,\n",
    "                               new_width = NEW_WIDTH, new_height = NEW_HEIGHT):\n",
    "    \n",
    "    # Camera parameters\n",
    "    cameras = ['center', 'left', 'right']\n",
    "    cameras_index = {'center':0, 'left':1, 'right':2} # 0:center, 1:left, 2:right\n",
    "    cameras_steering_correction = {'center':0, 'left':STEERING_CORRECTION, 'right':-STEERING_CORRECTION}\n",
    "    \n",
    "    num_samples = len(data)\n",
    "    \n",
    "    while 1: # Loop forever so the generator never terminates\n",
    "        \n",
    "        data = shuffle(data)\n",
    "        images = []\n",
    "        angles = []\n",
    "        \n",
    "        for offset in range(0, num_samples, batch_size):\n",
    "            batch_samples = data[offset:offset+batch_size]\n",
    "            \n",
    "            for line in batch_samples:\n",
    "\n",
    "                ### Randomly choose center, left or right image\n",
    "                # Get random camera 0:center, 1:left, 2:right \n",
    "                camera = np.random.choice(cameras)\n",
    "                file_name = line[cameras_index[camera]].split('/')[-1]\n",
    "                path = data_dir + 'IMG/' + file_name\n",
    "                if image_load:\n",
    "                    image = cv2.imread(path)\n",
    "                else:\n",
    "                    image = np.zeros((160, 320, 3), dtype = np.uint8)\n",
    "                # Adjust angle\n",
    "                angle = float(line[3])\n",
    "                angle += cameras_steering_correction[camera]            \n",
    "\n",
    "                ### Random transformations\n",
    "                image, angle = random_flip(image, angle)\n",
    "                image, angle = random_brightness_correction(image, angle)\n",
    "                image, angle = random_shear(image, angle)\n",
    "                # image, angle = random_rotate(image, angle)\n",
    "                \n",
    "                ### Resize\n",
    "                image = crop(image)\n",
    "                image = resize(image, new_width, new_height)\n",
    "                \n",
    "                images.append(image)\n",
    "                angles.append(angle)\n",
    "            \n",
    "            yield np.array(images), np.array(angles)"
   ]
  },
  {
   "cell_type": "code",
   "execution_count": null,
   "metadata": {},
   "outputs": [],
   "source": [
    "def lenet_generator(csv_file):\n",
    "    # For lenet architecture 32x32x1 grayscaled images required\n",
    "    for images, angles in transformed_data_generator(csv_file, new_width = 32, new_height = 32):\n",
    "        images = 0.299*images[:, :, :, 0] + 0.587*images[:, :, :, 1] + 0.114*images[:, :, :, 2]\n",
    "        images = np.expand_dims(images, axis=3)\n",
    "        yield images, angles"
   ]
  },
  {
   "cell_type": "code",
   "execution_count": null,
   "metadata": {},
   "outputs": [],
   "source": [
    "for images, angles in transformed_data_generator(csv_file):\n",
    "    break\n",
    "\n",
    "plot_width, plot_height = 15, 8.3\n",
    "grid_rows, grid_cols = 4, 8\n",
    "\n",
    "fig = plt.figure(figsize = (plot_width, plot_height))\n",
    "fig.subplots_adjust(left = 0, right = 1, bottom = 0, top = 1, hspace = 0.05, wspace = 0.05)\n",
    "counter = 1\n",
    "for image, angle in zip(images[:32], angles[:32]):\n",
    "    imgplt = fig.add_subplot(grid_rows, grid_cols, counter)\n",
    "    counter += 1\n",
    "    imgplt.imshow(cv2.cvtColor(image, cv2.COLOR_BGR2RGB))\n",
    "    imgplt.axis('off')\n",
    "    imgplt.set_title('{:f}'.format(angle))"
   ]
  },
  {
   "cell_type": "code",
   "execution_count": null,
   "metadata": {},
   "outputs": [],
   "source": [
    "for images, angles in lenet_generator(csv_file):\n",
    "    break\n",
    "    \n",
    "plot_width, plot_height = 15, 8.3\n",
    "grid_rows, grid_cols = 4, 8\n",
    "\n",
    "fig = plt.figure(figsize = (plot_width, plot_height))\n",
    "fig.subplots_adjust(left = 0, right = 1, bottom = 0, top = 1, hspace = 0.05, wspace = 0.05)\n",
    "counter = 1\n",
    "for image, angle in zip(images[:32], angles[:32]):\n",
    "    imgplt = fig.add_subplot(grid_rows, grid_cols, counter)\n",
    "    counter += 1\n",
    "    imgplt.imshow(image.squeeze(), cmap='gray_r')\n",
    "    imgplt.axis('off')\n",
    "    imgplt.set_title('{:f}'.format(angle))"
   ]
  },
  {
   "cell_type": "code",
   "execution_count": null,
   "metadata": {
    "collapsed": true
   },
   "outputs": [],
   "source": [
    "### Model definition\n",
    "learning_rate = 0.0001\n",
    "keep_prob = 0.5\n",
    "def create_nv_model():\n",
    "    \n",
    "    # Define nvidia model\n",
    "    model = Sequential()\n",
    "\n",
    "    # Lambda layer\n",
    "    model.add(Lambda(lambda x: x / 255.0 - 0.5, input_shape = (64, 64, 3)))\n",
    "    \n",
    "    # Convolutional layers\n",
    "    model.add(Conv2D(24, (5, 5), padding = 'valid', strides = (2, 2), activation = 'relu'))\n",
    "    model.add(Conv2D(36, (5, 5), padding = 'valid', strides = (2, 2), activation = 'relu'))\n",
    "    model.add(Conv2D(48, (5, 5), padding = 'valid', strides = (2, 2), activation = 'relu'))\n",
    "    model.add(Conv2D(64, (3, 3), padding = 'same', strides = (2, 2), activation = 'relu'))\n",
    "    model.add(Conv2D(64, (3, 3), padding = 'valid', strides = (2, 2), activation = 'relu'))\n",
    "    \n",
    "    model.add(Flatten())\n",
    "    \n",
    "    # Fully connected layers\n",
    "    model.add(Dense(1164, activation = 'relu'))\n",
    "    model.add(Dropout(keep_prob))\n",
    "    model.add(Dense(100, activation = 'relu'))\n",
    "    model.add(Dropout(keep_prob))\n",
    "    model.add(Dense(50, activation = 'relu'))\n",
    "    model.add(Dropout(keep_prob))\n",
    "    model.add(Dense(10, activation = 'relu'))\n",
    "    model.add(Dense(1))\n",
    "    \n",
    "    model.compile(loss = 'mse', optimizer = Adam())\n",
    "    return model"
   ]
  },
  {
   "cell_type": "code",
   "execution_count": null,
   "metadata": {},
   "outputs": [],
   "source": [
    "nv_model = create_nv_model()\n",
    "nv_model.summary()"
   ]
  },
  {
   "cell_type": "code",
   "execution_count": null,
   "metadata": {},
   "outputs": [],
   "source": [
    "### Model training\n",
    "nv_hist = nv_model.fit_generator(transformed_data_generator(csv_train),\n",
    "                                steps_per_epoch = len(csv_train)/BATCH_SIZE*3,\n",
    "                                epochs=8,\n",
    "                                validation_data = transformed_data_generator(csv_valid),\n",
    "                                validation_steps = len(csv_valid)/BATCH_SIZE*3)"
   ]
  },
  {
   "cell_type": "code",
   "execution_count": null,
   "metadata": {
    "collapsed": true
   },
   "outputs": [],
   "source": [
    "### Save model\n",
    "model_name = 'models/nv_model.h5'\n",
    "delete_file(model_name)\n",
    "nv_model.save(model_name)"
   ]
  },
  {
   "cell_type": "code",
   "execution_count": null,
   "metadata": {},
   "outputs": [],
   "source": [
    "for images, angles in transformed_data_generator(csv_valid):\n",
    "    break\n",
    "steering_angles = nv_model.predict(images)\n",
    "real_signs = np.sign(angles)\n",
    "pred_signs = np.sign(steering_angles)\n",
    "accuracy = np.count(real_signs == pred_signs)/len(angles)\n",
    "print('Acuracy = {:%}'.format(acurracy))"
   ]
  },
  {
   "cell_type": "code",
   "execution_count": null,
   "metadata": {},
   "outputs": [],
   "source": [
    "### Show results\n",
    "### plot the training and validation loss for each epoch\n",
    "plt.plot(nv_hist.history['loss'])\n",
    "plt.plot(nv_hist.history['val_loss'])\n",
    "plt.title('model mean squared error loss')\n",
    "plt.ylabel('mean squared error loss')\n",
    "plt.xlabel('epoch')\n",
    "plt.legend(['training set', 'validation set'], loc='upper right')"
   ]
  },
  {
   "cell_type": "code",
   "execution_count": null,
   "metadata": {
    "collapsed": true
   },
   "outputs": [],
   "source": [
    "def create_lenet_model():\n",
    "    # Define lenet model\n",
    "    model = Sequential()\n",
    "    model.add(Lambda(lambda x: x / 127.5 - 1, input_shape = (32, 32, 1)))\n",
    "    model.add(Conv2D(6, (5, 5), padding = 'valid', activation = 'relu'))\n",
    "    model.add(MaxPooling2D((2, 2), padding='valid'))\n",
    "    model.add(Conv2D(16, (5, 5), padding = 'valid', activation = 'relu'))\n",
    "    model.add(MaxPooling2D((2, 2), padding='valid'))\n",
    "    model.add(Flatten())\n",
    "    model.add(Dropout(0.5))\n",
    "    model.add(Dense(120, activation = 'relu'))\n",
    "    model.add(Dropout(0.5))\n",
    "    model.add(Dense(84, activation = 'relu'))\n",
    "    model.add(Dropout(0.5))\n",
    "    model.add(Dense(1, kernel_initializer = 'truncated_normal'))\n",
    "    model.compile(loss = 'mse', optimizer = 'adam')\n",
    "    return model"
   ]
  },
  {
   "cell_type": "code",
   "execution_count": null,
   "metadata": {},
   "outputs": [],
   "source": [
    "ln_model = create_lenet_model()\n",
    "ln_model.summary()"
   ]
  },
  {
   "cell_type": "code",
   "execution_count": null,
   "metadata": {},
   "outputs": [],
   "source": [
    "### Model training\n",
    "ln_hist_object = ln_model.fit_generator(lenet_generator(csv_train),\n",
    "                                steps_per_epoch = len(csv_train)/BATCH_SIZE*3,\n",
    "                                epochs=5,\n",
    "                                validation_data = lenet_generator(csv_valid),\n",
    "                                validation_steps = len(csv_valid)/BATCH_SIZE*3)"
   ]
  },
  {
   "cell_type": "code",
   "execution_count": null,
   "metadata": {
    "collapsed": true
   },
   "outputs": [],
   "source": [
    "### Save model\n",
    "model_name = 'models/ln_model.h5'\n",
    "delete_file(model_name)\n",
    "ln_model.save(model_name)"
   ]
  },
  {
   "cell_type": "code",
   "execution_count": null,
   "metadata": {},
   "outputs": [],
   "source": [
    "for images, angles in lenet_generator(csv_valid):\n",
    "    break\n",
    "steering_angles = ln_model.predict(images)\n",
    "real_signs = np.sign(angles)\n",
    "pred_signs = np.sign(steering_angles).T\n",
    "accuracy = np.sum(real_signs == pred_signs)/len(angles)\n",
    "print('Acuracy = {:%}'.format(accuracy))"
   ]
  },
  {
   "cell_type": "code",
   "execution_count": null,
   "metadata": {
    "collapsed": true
   },
   "outputs": [],
   "source": [
    "def create_simple_nv_model():\n",
    "    # Define nvidia model\n",
    "    model = Sequential()\n",
    "    model.add(Lambda(lambda x: x / 255.0 - 0.5, input_shape = (64, 64, 3)))\n",
    "    model.add(Conv2D(24, (5, 5), padding = 'valid', strides = (2, 2), activation = 'relu'))\n",
    "    model.add(Conv2D(36, (5, 5), padding = 'valid', strides = (2, 2), activation = 'relu'))\n",
    "    model.add(Conv2D(48, (5, 5), padding = 'valid', strides = (2, 2), activation = 'relu'))\n",
    "    model.add(Conv2D(64, (3, 3), padding = 'same', strides = (2, 2), activation = 'relu'))\n",
    "    model.add(Conv2D(64, (3, 3), padding = 'valid', strides = (2, 2), activation = 'relu'))\n",
    "    model.add(Flatten())\n",
    "    model.add(Dense(256))\n",
    "    model.add(Dropout(0.5))\n",
    "    model.add(Dense(64))\n",
    "    model.add(Dropout(0.5))\n",
    "    model.add(Dense(16))\n",
    "    model.add(Dropout(0.5))\n",
    "    model.add(Dense(10))\n",
    "    model.add(Dense(1))\n",
    "    model.compile(loss = 'mse', optimizer = 'adam')\n",
    "    return model"
   ]
  },
  {
   "cell_type": "code",
   "execution_count": null,
   "metadata": {},
   "outputs": [],
   "source": [
    "simple_nv_model = create_simple_nv_model()\n",
    "simple_nv_model.summary()"
   ]
  },
  {
   "cell_type": "code",
   "execution_count": null,
   "metadata": {},
   "outputs": [],
   "source": [
    "### Model training\n",
    "simple_nv_hist_object = simple_nv_model.fit_generator(transformed_data_generator(csv_train),\n",
    "                                steps_per_epoch = len(csv_train)/BATCH_SIZE*3,\n",
    "                                epochs=8,\n",
    "                                validation_data = transformed_data_generator(csv_valid),\n",
    "                                validation_steps = len(csv_valid)/BATCH_SIZE*3)"
   ]
  },
  {
   "cell_type": "code",
   "execution_count": null,
   "metadata": {
    "collapsed": true
   },
   "outputs": [],
   "source": [
    "### Save model\n",
    "model_name = 'models/simple_ln_model.h5'\n",
    "delete_file(model_name)\n",
    "simple_nv_model.save(model_name)"
   ]
  }
 ],
 "metadata": {
  "kernelspec": {
   "display_name": "Python [conda env:sdc]",
   "language": "python",
   "name": "conda-env-sdc-py"
  },
  "language_info": {
   "codemirror_mode": {
    "name": "ipython",
    "version": 3
   },
   "file_extension": ".py",
   "mimetype": "text/x-python",
   "name": "python",
   "nbconvert_exporter": "python",
   "pygments_lexer": "ipython3",
   "version": "3.5.4"
  },
  "widgets": {
   "state": {},
   "version": "1.1.2"
  }
 },
 "nbformat": 4,
 "nbformat_minor": 2
}
